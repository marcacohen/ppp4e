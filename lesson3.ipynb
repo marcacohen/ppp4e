{
  "nbformat": 4,
  "nbformat_minor": 0,
  "metadata": {
    "colab": {
      "name": "PPP4E, Lesson 3 - https://mco.fyi/py3",
      "provenance": [],
      "collapsed_sections": [
        "7B_-CpRRW4Zd",
        "LtW8KwUNwp1C",
        "KQXSPmmUz6HF",
        "EMJgpD09JTIe",
        "FkugprPmOCDt",
        "OyVVrg4bOe4c",
        "l7OPW_gpO2Z-",
        "YIXYZfbDMOFu",
        "pxQarWI-8Agx",
        "gPrOawF-8C_2",
        "CFRaSTxk8Vxm",
        "wDex5btRwr98",
        "V_-kNwsORExI",
        "IStcCXeqRlkm",
        "6e_3-HRWPnDZ",
        "Ph9kzJycR5ru",
        "Z-Wq1KIKSEjd",
        "jI1DZJS0SJb8",
        "L2QDV4PPSSBM",
        "EO-lnJKxSWxD",
        "TgvUKub1SaYd",
        "nsBw-emnSh5N",
        "H3SwUvKaSmav",
        "SKQbr1LtSrn3",
        "st1iRuMPSw0c",
        "AdFfAcuaS337",
        "ENIYYIIAS6n4",
        "IkdjHn4fTCWC",
        "9lG09G45TH81",
        "8wvYpiXnTNJ7",
        "YRK-XYHkTTm6",
        "AY_A5OeUTZQu",
        "Q2wRue3kThIS",
        "Xd8m9FBrE5vy",
        "wtMnz7Fxcfn6",
        "6SHyjI-hci-f",
        "ra4Hf2e7corj",
        "9J7RI7TYcVeS",
        "T5vnlVm8gOPP",
        "nkxuivpM_Qis",
        "So9vQ1trLJLX",
        "1jH-_bNlLcHc",
        "9LYTJHnh0mPe",
        "GSNOwwS5dFSh",
        "cbgC8XuVMZiQ"
      ],
      "authorship_tag": "ABX9TyPusRHIDuduWlPDmJ4QEcpv",
      "include_colab_link": true
    },
    "kernelspec": {
      "name": "python3",
      "display_name": "Python 3"
    }
  },
  "cells": [
    {
      "cell_type": "markdown",
      "metadata": {
        "id": "view-in-github",
        "colab_type": "text"
      },
      "source": [
        "<a href=\"https://colab.research.google.com/github/marcacohen/ppp4e/blob/master/lesson3.ipynb\" target=\"_parent\"><img src=\"https://colab.research.google.com/assets/colab-badge.svg\" alt=\"Open In Colab\"/></a>"
      ]
    },
    {
      "cell_type": "markdown",
      "metadata": {
        "id": "7B_-CpRRW4Zd",
        "colab_type": "text"
      },
      "source": [
        "# Practical Python Programming for Everyone (PPP4E)\n",
        "\n",
        "**Lesson 3, Strings Revisited and Loops\n",
        "\n",
        "Link to this notebook: [mco.fyi/py3](https://mco.fyi/py3)\n",
        "\n",
        "**You can make a copy of this notebook by selecting File->Save a copy in Drive from the menu bar above.**"
      ]
    },
    {
      "cell_type": "markdown",
      "metadata": {
        "id": "LtW8KwUNwp1C",
        "colab_type": "text"
      },
      "source": [
        "# Strings Revisited"
      ]
    },
    {
      "cell_type": "markdown",
      "metadata": {
        "id": "KQXSPmmUz6HF",
        "colab_type": "text"
      },
      "source": [
        "## The `len` Function\n",
        "* len(string) returns the length of a passed string\n",
        "\n",
        "Examples:\n",
        "```\n",
        "print(len('To be or not to be'))\n",
        "print(len('To be or not to be\\n'))\n",
        "print(len('Tobeornottobe'))\n",
        "print(len(''))\n",
        "```"
      ]
    },
    {
      "cell_type": "code",
      "metadata": {
        "id": "6NFCU5Ow0MiN",
        "colab_type": "code",
        "colab": {
          "base_uri": "https://localhost:8080/",
          "height": 87
        },
        "outputId": "22133798-bce2-4541-fa32-badf676eeca7"
      },
      "source": [
        "print(len('To be or not to be'))\n",
        "print(len('To be or not to be\\n'))\n",
        "print(len('Tobeornottobe'))\n",
        "print(len(''))"
      ],
      "execution_count": null,
      "outputs": [
        {
          "output_type": "stream",
          "text": [
            "18\n",
            "19\n",
            "13\n",
            "0\n"
          ],
          "name": "stdout"
        }
      ]
    },
    {
      "cell_type": "markdown",
      "metadata": {
        "id": "EMJgpD09JTIe",
        "colab_type": "text"
      },
      "source": [
        "## Indexing"
      ]
    },
    {
      "cell_type": "markdown",
      "metadata": {
        "id": "ieuqSpJvNdHj",
        "colab_type": "text"
      },
      "source": [
        "* You can refer to a particular character in a string with this syntax:\n",
        "\n",
        "  `string[offset]`\n",
        "\n",
        "* Indexing works with variables and literal strings.\n",
        "* In Python, offsets in strings always start counting at zero.\n",
        "\n",
        "Examples:\n",
        "```\n",
        "mystr = 'marc'\n",
        "print(mystr[0])\n",
        "print(mystr[1])\n",
        "print(mystr[4])\n",
        "print(mystr[len(mystr)-1])\n",
        "print('marc'[2])\n",
        "```\n"
      ]
    },
    {
      "cell_type": "code",
      "metadata": {
        "id": "-EWrvyJANqod",
        "colab_type": "code",
        "colab": {
          "base_uri": "https://localhost:8080/",
          "height": 287
        },
        "outputId": "f2c5e002-1157-478f-db3f-d8b98af5b891"
      },
      "source": [
        "mystr = 'marc'\n",
        "print(mystr[0])\n",
        "print(mystr[1])\n",
        "print(mystr[3])\n",
        "print(mystr[len(mystr)-1])\n",
        "print('marc'[2])\n",
        "print(mystr[4])"
      ],
      "execution_count": null,
      "outputs": [
        {
          "output_type": "stream",
          "text": [
            "m\n",
            "a\n",
            "c\n",
            "c\n",
            "r\n"
          ],
          "name": "stdout"
        },
        {
          "output_type": "error",
          "ename": "IndexError",
          "evalue": "ignored",
          "traceback": [
            "\u001b[0;31m---------------------------------------------------------------------------\u001b[0m",
            "\u001b[0;31mIndexError\u001b[0m                                Traceback (most recent call last)",
            "\u001b[0;32m<ipython-input-4-11b58495272b>\u001b[0m in \u001b[0;36m<module>\u001b[0;34m()\u001b[0m\n\u001b[1;32m      5\u001b[0m \u001b[0mprint\u001b[0m\u001b[0;34m(\u001b[0m\u001b[0mmystr\u001b[0m\u001b[0;34m[\u001b[0m\u001b[0mlen\u001b[0m\u001b[0;34m(\u001b[0m\u001b[0mmystr\u001b[0m\u001b[0;34m)\u001b[0m\u001b[0;34m-\u001b[0m\u001b[0;36m1\u001b[0m\u001b[0;34m]\u001b[0m\u001b[0;34m)\u001b[0m\u001b[0;34m\u001b[0m\u001b[0;34m\u001b[0m\u001b[0m\n\u001b[1;32m      6\u001b[0m \u001b[0mprint\u001b[0m\u001b[0;34m(\u001b[0m\u001b[0;34m'marc'\u001b[0m\u001b[0;34m[\u001b[0m\u001b[0;36m2\u001b[0m\u001b[0;34m]\u001b[0m\u001b[0;34m)\u001b[0m\u001b[0;34m\u001b[0m\u001b[0;34m\u001b[0m\u001b[0m\n\u001b[0;32m----> 7\u001b[0;31m \u001b[0mprint\u001b[0m\u001b[0;34m(\u001b[0m\u001b[0mmystr\u001b[0m\u001b[0;34m[\u001b[0m\u001b[0;36m4\u001b[0m\u001b[0;34m]\u001b[0m\u001b[0;34m)\u001b[0m\u001b[0;34m\u001b[0m\u001b[0;34m\u001b[0m\u001b[0m\n\u001b[0m",
            "\u001b[0;31mIndexError\u001b[0m: string index out of range"
          ]
        }
      ]
    },
    {
      "cell_type": "code",
      "metadata": {
        "id": "RWm7O8qM-TBD",
        "colab_type": "code",
        "colab": {
          "base_uri": "https://localhost:8080/",
          "height": 35
        },
        "outputId": "7e36c955-464a-4ec8-8f16-a34ec5f1a582"
      },
      "source": [
        "mystr[-4]\n"
      ],
      "execution_count": null,
      "outputs": [
        {
          "output_type": "execute_result",
          "data": {
            "application/vnd.google.colaboratory.intrinsic+json": {
              "type": "string"
            },
            "text/plain": [
              "'m'"
            ]
          },
          "metadata": {
            "tags": []
          },
          "execution_count": 8
        }
      ]
    },
    {
      "cell_type": "markdown",
      "metadata": {
        "id": "FkugprPmOCDt",
        "colab_type": "text"
      },
      "source": [
        "## Slicing\n",
        "\n",
        "* You can take a subset of a string, we call this 'a slice') using this syntax:\n",
        "\n",
        "  `string[beg:end]`\n",
        "\n",
        "* the slice starts from offset `beg` (again, counting from 0), and continues through to `end-1`\n",
        "\n",
        "Examples:\n",
        "```\n",
        "mystr = 'Python is cool'\n",
        "print(mystr[0:6])\n",
        "print(mystr[10:11])\n",
        "print(mystr[10:10])\n",
        "print(mystr[10:9])\n",
        "print('Python is cool'[1:3])\n",
        "```\n"
      ]
    },
    {
      "cell_type": "code",
      "metadata": {
        "id": "26-N8C-LOQRi",
        "colab_type": "code",
        "colab": {
          "base_uri": "https://localhost:8080/",
          "height": 104
        },
        "outputId": "6d352a58-4c1c-4113-89eb-0039b701f380"
      },
      "source": [
        "mystr = 'Python is cool'\n",
        "print(mystr[0:7])\n",
        "print(mystr[10:11])\n",
        "print(mystr[10:10])\n",
        "print(mystr[10:9])\n",
        "print('Math is cool'[1:3])"
      ],
      "execution_count": null,
      "outputs": [
        {
          "output_type": "stream",
          "text": [
            "PythonX\n",
            "c\n",
            "\n",
            "\n",
            "at\n"
          ],
          "name": "stdout"
        }
      ]
    },
    {
      "cell_type": "markdown",
      "metadata": {
        "id": "OyVVrg4bOe4c",
        "colab_type": "text"
      },
      "source": [
        "### Default Limits\n",
        "\n",
        "* You can leave out the beg or end part (or both)\n",
        "* default beg is `0`\n",
        "* default end is `len()-1`\n",
        "\n",
        "Examples:\n",
        "```\n",
        "mystr = 'Python is cool'\n",
        "print(mystr[0:])\n",
        "print(mystr[10:])\n",
        "print(mystr[:14])\n",
        "print(mystr[:7])\n",
        "print(mystr[:])\n",
        "```"
      ]
    },
    {
      "cell_type": "code",
      "metadata": {
        "id": "Pr8d1ksYOn0Y",
        "colab_type": "code",
        "colab": {}
      },
      "source": [
        "mystr = 'Python is cool'\n",
        "print(mystr[0:])\n",
        "print(mystr[10:])\n",
        "print(mystr[:14])\n",
        "print(mystr[:7])\n",
        "print(mystr[:])"
      ],
      "execution_count": null,
      "outputs": []
    },
    {
      "cell_type": "markdown",
      "metadata": {
        "id": "l7OPW_gpO2Z-",
        "colab_type": "text"
      },
      "source": [
        "### Challenge - predict the output from the following print statements:\n",
        "```\n",
        "mystr = 'Python is cool'\n",
        "print(mystr[7])\n",
        "print(mystr[len(mystr)])\n",
        "print(mystr[1:15])\n",
        "print(mystr[1:1])\n",
        "print(mystr[-5:-1])\n",
        "print(mystr[-1:-5])\n",
        "print(mystr[0:])\n",
        "print(mystr[:-1])\n",
        "```\n"
      ]
    },
    {
      "cell_type": "code",
      "metadata": {
        "id": "CWnEm4GoAAJj",
        "colab_type": "code",
        "colab": {}
      },
      "source": [
        "x = 'math is cool'\n",
        "print(x[2::-2])"
      ],
      "execution_count": null,
      "outputs": []
    },
    {
      "cell_type": "code",
      "metadata": {
        "id": "ahvIihD9PApm",
        "colab_type": "code",
        "colab": {}
      },
      "source": [
        "mystr = 'Python is cool'\n",
        "print(mystr[7])\n",
        "print(mystr[len(mystr)])\n",
        "print(mystr[1:15])\n",
        "print(mystr[1:1])\n",
        "print(mystr[-5:-1])\n",
        "print(mystr[-1:-5])\n",
        "print(mystr[0:])\n",
        "print(mystr[:-1])"
      ],
      "execution_count": null,
      "outputs": []
    },
    {
      "cell_type": "markdown",
      "metadata": {
        "id": "YIXYZfbDMOFu",
        "colab_type": "text"
      },
      "source": [
        "## The `in` Operator\n",
        "\n",
        "* `in` is a boolean operator which, when used with strings, tests whether a substring exists in another string\n",
        "* the result is a boolean value (True or False)\n",
        "\n",
        "Examples:\n",
        "```\n",
        "print('a' in 'Marc')\n",
        "print('arc' in 'Marc')\n",
        "print('m' in 'Marc')\n",
        "print('Marc' in 'Marc')\n",
        "print('' in 'Marc')\n",
        "```\n"
      ]
    },
    {
      "cell_type": "code",
      "metadata": {
        "id": "1VuI0ukkMo4x",
        "colab_type": "code",
        "colab": {
          "base_uri": "https://localhost:8080/",
          "height": 104
        },
        "outputId": "0a90a2fd-7bee-46f3-a13b-0cfdec244376"
      },
      "source": [
        "print('a' in 'Marc')\n",
        "print('arc' in 'Marc')\n",
        "print('m' in 'Marc')\n",
        "print('Marc' in 'Marc')\n",
        "print('' in 'Marc')"
      ],
      "execution_count": null,
      "outputs": [
        {
          "output_type": "stream",
          "text": [
            "True\n",
            "True\n",
            "False\n",
            "True\n",
            "True\n"
          ],
          "name": "stdout"
        }
      ]
    },
    {
      "cell_type": "markdown",
      "metadata": {
        "id": "pxQarWI-8Agx",
        "colab_type": "text"
      },
      "source": [
        "## String Methods\n",
        "\n",
        "* everything in Python is an object\n",
        "* strings (and other objects) have special functions attached to them which we call \"methods\"\n",
        "* string methods are invoked like this:\n",
        "`string.method()`\n",
        "* you can use a variable, like this:\n",
        "`name.capitalize()` or a string literal, like this: `'marc'.capitalize()`\n"
      ]
    },
    {
      "cell_type": "code",
      "metadata": {
        "id": "M3zQevvR0aDE",
        "colab_type": "code",
        "colab": {
          "base_uri": "https://localhost:8080/",
          "height": 122
        },
        "outputId": "b6486494-a70e-401d-ec23-f8289369a60b"
      },
      "source": [
        "name = 'Marc Cohen'\n",
        "print(len(name))\n",
        "\n",
        "print(name.upper())\n",
        "print(name.lower())\n",
        "print(name)\n",
        "print(name.casefold())\n",
        "\n",
        "name.casefold()"
      ],
      "execution_count": null,
      "outputs": [
        {
          "output_type": "stream",
          "text": [
            "10\n",
            "MARC COHEN\n",
            "marc cohen\n",
            "Marc Cohen\n",
            "marc cohen\n"
          ],
          "name": "stdout"
        },
        {
          "output_type": "execute_result",
          "data": {
            "application/vnd.google.colaboratory.intrinsic+json": {
              "type": "string"
            },
            "text/plain": [
              "'marc cohen'"
            ]
          },
          "metadata": {
            "tags": []
          },
          "execution_count": 18
        }
      ]
    },
    {
      "cell_type": "markdown",
      "metadata": {
        "id": "5Q0v6tqEPeqN",
        "colab_type": "text"
      },
      "source": [
        "* `find()` returns the offset of the first matching substring\n",
        "* `find()` returns -1 if no match is found\n",
        "\n",
        "Example:\n",
        "```\n",
        "mystr = 'bookkeeper'\n",
        "print(mystr.find('ookkee'))\n",
        "print(mystr.find('okay'))\n",
        "```"
      ]
    },
    {
      "cell_type": "code",
      "metadata": {
        "id": "0ZhZZoIVP2Lz",
        "colab_type": "code",
        "colab": {
          "base_uri": "https://localhost:8080/",
          "height": 87
        },
        "outputId": "9c06a6fc-c374-45ef-95df-4d2f41784ecb"
      },
      "source": [
        "mystr = 'bookkeeper'\n",
        "print(mystr.find('ookkee'))\n",
        "print(mystr.find('okay'))\n",
        "print(mystr.find('k'))\n",
        "print(mystr.find(''))"
      ],
      "execution_count": null,
      "outputs": [
        {
          "output_type": "stream",
          "text": [
            "1\n",
            "-1\n",
            "3\n",
            "0\n"
          ],
          "name": "stdout"
        }
      ]
    },
    {
      "cell_type": "markdown",
      "metadata": {
        "id": "gPrOawF-8C_2",
        "colab_type": "text"
      },
      "source": [
        "## String Immutability\n",
        "\n",
        "* strings cannot change after they are created\n",
        "* we call this property “immutability”\n",
        "* strings are said to be “immutable” (i.e. unchanging)\n",
        "* string methods which appear to change the string actually return a new string\n",
        "\n",
        "For example, the `upper()` string method:\n",
        "```\n",
        "name = 'Marc'\n",
        "upper_name = name.upper()\n",
        "print(f'{name} still exists, {upper_name} is a new string')\n",
        "```\n",
        "creates and returns a new string. The original string, the one we called the method on, returns a new string."
      ]
    },
    {
      "cell_type": "code",
      "metadata": {
        "id": "VX6pC4Pg1ZFa",
        "colab_type": "code",
        "colab": {
          "base_uri": "https://localhost:8080/",
          "height": 35
        },
        "outputId": "795f6a22-3116-47d3-bf57-b96214c5c992"
      },
      "source": [
        "name = 'Marc'\n",
        "name = name.upper()\n",
        "print(f'{name} still exists, {upper_name} is a new string')"
      ],
      "execution_count": null,
      "outputs": [
        {
          "output_type": "stream",
          "text": [
            "MARC still exists, MARC is a new string\n"
          ],
          "name": "stdout"
        }
      ]
    },
    {
      "cell_type": "markdown",
      "metadata": {
        "id": "CFRaSTxk8Vxm",
        "colab_type": "text"
      },
      "source": [
        "## String Editing\n",
        "\n",
        "* the replace() string method takes these arguments:\n",
        "\n",
        "  * a substring to replace\n",
        "  * a replacement string\n",
        "  * an optional maximum number of occurrences to replace (default is all)\n",
        "\n",
        "Example: replace every zero with two zeros...\n",
        "```\n",
        "salary = '1000'\n",
        "new_salary = salary.replace('0', '00')\n",
        "print(new_salary)\n",
        "```\n",
        "\n",
        "\n"
      ]
    },
    {
      "cell_type": "code",
      "metadata": {
        "id": "15DOp2Nc3glX",
        "colab_type": "code",
        "colab": {
          "base_uri": "https://localhost:8080/",
          "height": 35
        },
        "outputId": "cb6b442e-acd8-42d9-f89d-ecf09e4b01df"
      },
      "source": [
        "salary = '1000'\n",
        "salary = salary.replace('0', 'Xyzdhfjksghdkjs')\n",
        "print(salary)"
      ],
      "execution_count": null,
      "outputs": [
        {
          "output_type": "stream",
          "text": [
            "1Xyzdhfjksghdkjs00\n"
          ],
          "name": "stdout"
        }
      ]
    },
    {
      "cell_type": "markdown",
      "metadata": {
        "id": "nuPJ358h2CyD",
        "colab_type": "text"
      },
      "source": [
        "Example: improve your reviews...\n",
        "\n",
        "```\n",
        "feedback = input('How am I doing? ')\n",
        "better_feedback = feedback.replace('worst', 'best')\n",
        "print(better_feedback)\n",
        "```"
      ]
    },
    {
      "cell_type": "code",
      "metadata": {
        "id": "kXxPfBa33r2f",
        "colab_type": "code",
        "colab": {
          "base_uri": "https://localhost:8080/",
          "height": 52
        },
        "outputId": "fb8117a2-3052-4989-a8be-8953f3325323"
      },
      "source": [
        "feedback = input('How am I doing? ')\n",
        "better_feedback = feedback.replace('worst', 'best')\n",
        "print(feedback, better_feedback)"
      ],
      "execution_count": null,
      "outputs": [
        {
          "output_type": "stream",
          "text": [
            "How am I doing? worst\n",
            "worst best\n"
          ],
          "name": "stdout"
        }
      ]
    },
    {
      "cell_type": "markdown",
      "metadata": {
        "id": "wDex5btRwr98",
        "colab_type": "text"
      },
      "source": [
        "# Loops"
      ]
    },
    {
      "cell_type": "markdown",
      "metadata": {
        "id": "V_-kNwsORExI",
        "colab_type": "text"
      },
      "source": [
        "## Stop repeating yourself\n",
        "\n",
        "Let's write a program that prints the first three integers along with the square of each (the number multiplied by itself).\n",
        "\n",
        "```\n",
        "i = 1\n",
        "print(i, i*i)\n",
        "i = 2\n",
        "print(i, i*i)\n",
        "i = 3\n",
        "print(i, i*i)\n",
        "```"
      ]
    },
    {
      "cell_type": "code",
      "metadata": {
        "id": "SWeok6trOgGi",
        "colab_type": "code",
        "colab": {
          "base_uri": "https://localhost:8080/",
          "height": 69
        },
        "outputId": "5c405181-81a1-45a2-ad3f-83d02584faa7"
      },
      "source": [
        "i = 1\n",
        "print(i, i*i)\n",
        "i = 2\n",
        "print(i, i*i)\n",
        "i = 3\n",
        "print(i, i*i)"
      ],
      "execution_count": null,
      "outputs": [
        {
          "output_type": "stream",
          "text": [
            "1 1\n",
            "2 4\n",
            "3 9\n"
          ],
          "name": "stdout"
        }
      ]
    },
    {
      "cell_type": "markdown",
      "metadata": {
        "id": "IStcCXeqRlkm",
        "colab_type": "text"
      },
      "source": [
        "### Two problems with this program\n",
        "\n",
        "* scalability - what happens to this program if I change the specification from the first three integers to the first 1,000 integers?\n",
        "\n",
        "  **You need to type 2,000 more lines of code.**\n",
        "\n",
        "* maintainability - what happens to this program if I change the specification to require the cube of each number?\n",
        "\n",
        "  **You need to edit every single print statement.**\n",
        "After expanding this program to cover the first 1,000 integers, you'd have to change 1,000 lines!\n"
      ]
    },
    {
      "cell_type": "markdown",
      "metadata": {
        "id": "6e_3-HRWPnDZ",
        "colab_type": "text"
      },
      "source": [
        "## `while` Loops"
      ]
    },
    {
      "cell_type": "markdown",
      "metadata": {
        "id": "sklaMtZlRtn4",
        "colab_type": "text"
      },
      "source": [
        "* The `while` statement is one way we can express repeatable logic in Python.\n",
        "* `while` statements define a condition and a sequence of statements in this format...\n",
        "``` \n",
        "while condition:    \n",
        "    block of indented statements\n",
        "    ...\n",
        "print('done with loop')\n",
        "```\n",
        "* The condition is checked on entry to the loop and after each execution of the loop block.\n",
        "* Similar to `if` statement except the block is repeatedly executed as long as the condition is true.\n",
        "* When the condition becomes false, the loop is exited, i.e. it stops repeating and control moves to the statement after the loop.\n",
        "* If the condition is initially false, the loop is never entered, i.e. the loop block is never executed.\n"
      ]
    },
    {
      "cell_type": "markdown",
      "metadata": {
        "id": "Ph9kzJycR5ru",
        "colab_type": "text"
      },
      "source": [
        "### `while` Loop Structure\n",
        "\n",
        "In Python, the extent of a while block is defined by indentation (just like if statement blocks)\n",
        "```\n",
        "i = 0\n",
        "while i < 3:    \n",
        "  print(i)    \n",
        "  i += 1\n",
        "print(i)\n",
        "```\n",
        "What does the output look like...\n",
        "* when `i` is initialized to `0`?\n",
        "* when `i` is initialized to `1`?\n",
        "* when `i` is initialized to `2`?\n",
        "* when `i` is initialized to `3`?\n"
      ]
    },
    {
      "cell_type": "code",
      "metadata": {
        "id": "Cq934F8GQy74",
        "colab_type": "code",
        "colab": {
          "base_uri": "https://localhost:8080/",
          "height": 87
        },
        "outputId": "a9cb8225-a948-404d-b531-7c71c4ad2e22"
      },
      "source": [
        "i = 0\n",
        "while i < 3:    \n",
        "  print('in loop:', i)    \n",
        "  i += 1\n",
        "print('we are done:',i)"
      ],
      "execution_count": null,
      "outputs": [
        {
          "output_type": "stream",
          "text": [
            "in loop: 0\n",
            "in loop: 1\n",
            "in loop: 2\n",
            "we are done: 3\n"
          ],
          "name": "stdout"
        }
      ]
    },
    {
      "cell_type": "markdown",
      "metadata": {
        "id": "Z-Wq1KIKSEjd",
        "colab_type": "text"
      },
      "source": [
        "### Loop Counter\n",
        "\n",
        "* variable that controls entry into the loop body\n",
        "* often keeps track of the number of times the loop is executed\n",
        "* must be changed at some point in the indented block to ensure the loop is executed the intended number of times \n"
      ]
    },
    {
      "cell_type": "markdown",
      "metadata": {
        "id": "jI1DZJS0SJb8",
        "colab_type": "text"
      },
      "source": [
        "### Generating Squares Using a `while` Loop\n",
        "```\n",
        "i = 1\n",
        "while i <= 3:    \n",
        "  print(i, i*i)    \n",
        "  i += 1\n",
        "```\n",
        "* Does this work?\n",
        "* Is this version an improvement? Why?"
      ]
    },
    {
      "cell_type": "code",
      "metadata": {
        "id": "sOEknHo9YrVq",
        "colab_type": "code",
        "colab": {
          "base_uri": "https://localhost:8080/",
          "height": 1000
        },
        "outputId": "d4e77d84-d8ed-4106-ec6a-e00c6a17779b"
      },
      "source": [
        "i = 1\n",
        "while i <= 100:    \n",
        "  print(i, i*i)    \n",
        "  i += 1"
      ],
      "execution_count": null,
      "outputs": [
        {
          "output_type": "stream",
          "text": [
            "1 1\n",
            "2 4\n",
            "3 9\n",
            "4 16\n",
            "5 25\n",
            "6 36\n",
            "7 49\n",
            "8 64\n",
            "9 81\n",
            "10 100\n",
            "11 121\n",
            "12 144\n",
            "13 169\n",
            "14 196\n",
            "15 225\n",
            "16 256\n",
            "17 289\n",
            "18 324\n",
            "19 361\n",
            "20 400\n",
            "21 441\n",
            "22 484\n",
            "23 529\n",
            "24 576\n",
            "25 625\n",
            "26 676\n",
            "27 729\n",
            "28 784\n",
            "29 841\n",
            "30 900\n",
            "31 961\n",
            "32 1024\n",
            "33 1089\n",
            "34 1156\n",
            "35 1225\n",
            "36 1296\n",
            "37 1369\n",
            "38 1444\n",
            "39 1521\n",
            "40 1600\n",
            "41 1681\n",
            "42 1764\n",
            "43 1849\n",
            "44 1936\n",
            "45 2025\n",
            "46 2116\n",
            "47 2209\n",
            "48 2304\n",
            "49 2401\n",
            "50 2500\n",
            "51 2601\n",
            "52 2704\n",
            "53 2809\n",
            "54 2916\n",
            "55 3025\n",
            "56 3136\n",
            "57 3249\n",
            "58 3364\n",
            "59 3481\n",
            "60 3600\n",
            "61 3721\n",
            "62 3844\n",
            "63 3969\n",
            "64 4096\n",
            "65 4225\n",
            "66 4356\n",
            "67 4489\n",
            "68 4624\n",
            "69 4761\n",
            "70 4900\n",
            "71 5041\n",
            "72 5184\n",
            "73 5329\n",
            "74 5476\n",
            "75 5625\n",
            "76 5776\n",
            "77 5929\n",
            "78 6084\n",
            "79 6241\n",
            "80 6400\n",
            "81 6561\n",
            "82 6724\n",
            "83 6889\n",
            "84 7056\n",
            "85 7225\n",
            "86 7396\n",
            "87 7569\n",
            "88 7744\n",
            "89 7921\n",
            "90 8100\n",
            "91 8281\n",
            "92 8464\n",
            "93 8649\n",
            "94 8836\n",
            "95 9025\n",
            "96 9216\n",
            "97 9409\n",
            "98 9604\n",
            "99 9801\n",
            "100 10000\n"
          ],
          "name": "stdout"
        }
      ]
    },
    {
      "cell_type": "markdown",
      "metadata": {
        "id": "L2QDV4PPSSBM",
        "colab_type": "text"
      },
      "source": [
        "#### Scalability\n",
        "\n",
        "* Can you make this work for the first 1,000 integers?\n",
        "```\n",
        "i = 1\n",
        "while i <= 1000:  # changed 3 to 1000    \n",
        "    print(i, i*i)    \n",
        "    i += 1\n",
        "```\n",
        "\n",
        "* We scaled this version to 1,000 integers by changing only one line of code!\n"
      ]
    },
    {
      "cell_type": "code",
      "metadata": {
        "id": "MeDig9TyY7JX",
        "colab_type": "code",
        "colab": {}
      },
      "source": [
        "i = 1\n",
        "while i <= 1000:  # changed 3 to 1000    \n",
        "    print(i, i*i)    \n",
        "    i += 1"
      ],
      "execution_count": null,
      "outputs": []
    },
    {
      "cell_type": "markdown",
      "metadata": {
        "id": "EO-lnJKxSWxD",
        "colab_type": "text"
      },
      "source": [
        "#### Maintainability\n",
        "\n",
        "* Can you print both the square and the cube (3rd power) for the first 1,000 integers?\n",
        "```\n",
        "i = 1\n",
        "while i <= 1000:    \n",
        "    print(i, i*i, i**3) # added cube to print    \n",
        "    i += 1\n",
        "```\n",
        "* The previous version would have required us to edit 1,000 print statements.\n",
        "* We added support for printing cubes in this version by changing only one line of code!\n"
      ]
    },
    {
      "cell_type": "code",
      "metadata": {
        "id": "i9qtAbDRZNPU",
        "colab_type": "code",
        "colab": {
          "base_uri": "https://localhost:8080/",
          "height": 1000
        },
        "outputId": "8f357da2-ad17-4d97-872f-fc4eb6958e83"
      },
      "source": [
        "i = 1\n",
        "limit = 1000\n",
        "while i <= limit:    \n",
        "    print(i, i**3) # added cube to print    \n",
        "    i += 1"
      ],
      "execution_count": null,
      "outputs": [
        {
          "output_type": "stream",
          "text": [
            "1 1\n",
            "2 8\n",
            "3 27\n",
            "4 64\n",
            "5 125\n",
            "6 216\n",
            "7 343\n",
            "8 512\n",
            "9 729\n",
            "10 1000\n",
            "11 1331\n",
            "12 1728\n",
            "13 2197\n",
            "14 2744\n",
            "15 3375\n",
            "16 4096\n",
            "17 4913\n",
            "18 5832\n",
            "19 6859\n",
            "20 8000\n",
            "21 9261\n",
            "22 10648\n",
            "23 12167\n",
            "24 13824\n",
            "25 15625\n",
            "26 17576\n",
            "27 19683\n",
            "28 21952\n",
            "29 24389\n",
            "30 27000\n",
            "31 29791\n",
            "32 32768\n",
            "33 35937\n",
            "34 39304\n",
            "35 42875\n",
            "36 46656\n",
            "37 50653\n",
            "38 54872\n",
            "39 59319\n",
            "40 64000\n",
            "41 68921\n",
            "42 74088\n",
            "43 79507\n",
            "44 85184\n",
            "45 91125\n",
            "46 97336\n",
            "47 103823\n",
            "48 110592\n",
            "49 117649\n",
            "50 125000\n",
            "51 132651\n",
            "52 140608\n",
            "53 148877\n",
            "54 157464\n",
            "55 166375\n",
            "56 175616\n",
            "57 185193\n",
            "58 195112\n",
            "59 205379\n",
            "60 216000\n",
            "61 226981\n",
            "62 238328\n",
            "63 250047\n",
            "64 262144\n",
            "65 274625\n",
            "66 287496\n",
            "67 300763\n",
            "68 314432\n",
            "69 328509\n",
            "70 343000\n",
            "71 357911\n",
            "72 373248\n",
            "73 389017\n",
            "74 405224\n",
            "75 421875\n",
            "76 438976\n",
            "77 456533\n",
            "78 474552\n",
            "79 493039\n",
            "80 512000\n",
            "81 531441\n",
            "82 551368\n",
            "83 571787\n",
            "84 592704\n",
            "85 614125\n",
            "86 636056\n",
            "87 658503\n",
            "88 681472\n",
            "89 704969\n",
            "90 729000\n",
            "91 753571\n",
            "92 778688\n",
            "93 804357\n",
            "94 830584\n",
            "95 857375\n",
            "96 884736\n",
            "97 912673\n",
            "98 941192\n",
            "99 970299\n",
            "100 1000000\n",
            "101 1030301\n",
            "102 1061208\n",
            "103 1092727\n",
            "104 1124864\n",
            "105 1157625\n",
            "106 1191016\n",
            "107 1225043\n",
            "108 1259712\n",
            "109 1295029\n",
            "110 1331000\n",
            "111 1367631\n",
            "112 1404928\n",
            "113 1442897\n",
            "114 1481544\n",
            "115 1520875\n",
            "116 1560896\n",
            "117 1601613\n",
            "118 1643032\n",
            "119 1685159\n",
            "120 1728000\n",
            "121 1771561\n",
            "122 1815848\n",
            "123 1860867\n",
            "124 1906624\n",
            "125 1953125\n",
            "126 2000376\n",
            "127 2048383\n",
            "128 2097152\n",
            "129 2146689\n",
            "130 2197000\n",
            "131 2248091\n",
            "132 2299968\n",
            "133 2352637\n",
            "134 2406104\n",
            "135 2460375\n",
            "136 2515456\n",
            "137 2571353\n",
            "138 2628072\n",
            "139 2685619\n",
            "140 2744000\n",
            "141 2803221\n",
            "142 2863288\n",
            "143 2924207\n",
            "144 2985984\n",
            "145 3048625\n",
            "146 3112136\n",
            "147 3176523\n",
            "148 3241792\n",
            "149 3307949\n",
            "150 3375000\n",
            "151 3442951\n",
            "152 3511808\n",
            "153 3581577\n",
            "154 3652264\n",
            "155 3723875\n",
            "156 3796416\n",
            "157 3869893\n",
            "158 3944312\n",
            "159 4019679\n",
            "160 4096000\n",
            "161 4173281\n",
            "162 4251528\n",
            "163 4330747\n",
            "164 4410944\n",
            "165 4492125\n",
            "166 4574296\n",
            "167 4657463\n",
            "168 4741632\n",
            "169 4826809\n",
            "170 4913000\n",
            "171 5000211\n",
            "172 5088448\n",
            "173 5177717\n",
            "174 5268024\n",
            "175 5359375\n",
            "176 5451776\n",
            "177 5545233\n",
            "178 5639752\n",
            "179 5735339\n",
            "180 5832000\n",
            "181 5929741\n",
            "182 6028568\n",
            "183 6128487\n",
            "184 6229504\n",
            "185 6331625\n",
            "186 6434856\n",
            "187 6539203\n",
            "188 6644672\n",
            "189 6751269\n",
            "190 6859000\n",
            "191 6967871\n",
            "192 7077888\n",
            "193 7189057\n",
            "194 7301384\n",
            "195 7414875\n",
            "196 7529536\n",
            "197 7645373\n",
            "198 7762392\n",
            "199 7880599\n",
            "200 8000000\n",
            "201 8120601\n",
            "202 8242408\n",
            "203 8365427\n",
            "204 8489664\n",
            "205 8615125\n",
            "206 8741816\n",
            "207 8869743\n",
            "208 8998912\n",
            "209 9129329\n",
            "210 9261000\n",
            "211 9393931\n",
            "212 9528128\n",
            "213 9663597\n",
            "214 9800344\n",
            "215 9938375\n",
            "216 10077696\n",
            "217 10218313\n",
            "218 10360232\n",
            "219 10503459\n",
            "220 10648000\n",
            "221 10793861\n",
            "222 10941048\n",
            "223 11089567\n",
            "224 11239424\n",
            "225 11390625\n",
            "226 11543176\n",
            "227 11697083\n",
            "228 11852352\n",
            "229 12008989\n",
            "230 12167000\n",
            "231 12326391\n",
            "232 12487168\n",
            "233 12649337\n",
            "234 12812904\n",
            "235 12977875\n",
            "236 13144256\n",
            "237 13312053\n",
            "238 13481272\n",
            "239 13651919\n",
            "240 13824000\n",
            "241 13997521\n",
            "242 14172488\n",
            "243 14348907\n",
            "244 14526784\n",
            "245 14706125\n",
            "246 14886936\n",
            "247 15069223\n",
            "248 15252992\n",
            "249 15438249\n",
            "250 15625000\n",
            "251 15813251\n",
            "252 16003008\n",
            "253 16194277\n",
            "254 16387064\n",
            "255 16581375\n",
            "256 16777216\n",
            "257 16974593\n",
            "258 17173512\n",
            "259 17373979\n",
            "260 17576000\n",
            "261 17779581\n",
            "262 17984728\n",
            "263 18191447\n",
            "264 18399744\n",
            "265 18609625\n",
            "266 18821096\n",
            "267 19034163\n",
            "268 19248832\n",
            "269 19465109\n",
            "270 19683000\n",
            "271 19902511\n",
            "272 20123648\n",
            "273 20346417\n",
            "274 20570824\n",
            "275 20796875\n",
            "276 21024576\n",
            "277 21253933\n",
            "278 21484952\n",
            "279 21717639\n",
            "280 21952000\n",
            "281 22188041\n",
            "282 22425768\n",
            "283 22665187\n",
            "284 22906304\n",
            "285 23149125\n",
            "286 23393656\n",
            "287 23639903\n",
            "288 23887872\n",
            "289 24137569\n",
            "290 24389000\n",
            "291 24642171\n",
            "292 24897088\n",
            "293 25153757\n",
            "294 25412184\n",
            "295 25672375\n",
            "296 25934336\n",
            "297 26198073\n",
            "298 26463592\n",
            "299 26730899\n",
            "300 27000000\n",
            "301 27270901\n",
            "302 27543608\n",
            "303 27818127\n",
            "304 28094464\n",
            "305 28372625\n",
            "306 28652616\n",
            "307 28934443\n",
            "308 29218112\n",
            "309 29503629\n",
            "310 29791000\n",
            "311 30080231\n",
            "312 30371328\n",
            "313 30664297\n",
            "314 30959144\n",
            "315 31255875\n",
            "316 31554496\n",
            "317 31855013\n",
            "318 32157432\n",
            "319 32461759\n",
            "320 32768000\n",
            "321 33076161\n",
            "322 33386248\n",
            "323 33698267\n",
            "324 34012224\n",
            "325 34328125\n",
            "326 34645976\n",
            "327 34965783\n",
            "328 35287552\n",
            "329 35611289\n",
            "330 35937000\n",
            "331 36264691\n",
            "332 36594368\n",
            "333 36926037\n",
            "334 37259704\n",
            "335 37595375\n",
            "336 37933056\n",
            "337 38272753\n",
            "338 38614472\n",
            "339 38958219\n",
            "340 39304000\n",
            "341 39651821\n",
            "342 40001688\n",
            "343 40353607\n",
            "344 40707584\n",
            "345 41063625\n",
            "346 41421736\n",
            "347 41781923\n",
            "348 42144192\n",
            "349 42508549\n",
            "350 42875000\n",
            "351 43243551\n",
            "352 43614208\n",
            "353 43986977\n",
            "354 44361864\n",
            "355 44738875\n",
            "356 45118016\n",
            "357 45499293\n",
            "358 45882712\n",
            "359 46268279\n",
            "360 46656000\n",
            "361 47045881\n",
            "362 47437928\n",
            "363 47832147\n",
            "364 48228544\n",
            "365 48627125\n",
            "366 49027896\n",
            "367 49430863\n",
            "368 49836032\n",
            "369 50243409\n",
            "370 50653000\n",
            "371 51064811\n",
            "372 51478848\n",
            "373 51895117\n",
            "374 52313624\n",
            "375 52734375\n",
            "376 53157376\n",
            "377 53582633\n",
            "378 54010152\n",
            "379 54439939\n",
            "380 54872000\n",
            "381 55306341\n",
            "382 55742968\n",
            "383 56181887\n",
            "384 56623104\n",
            "385 57066625\n",
            "386 57512456\n",
            "387 57960603\n",
            "388 58411072\n",
            "389 58863869\n",
            "390 59319000\n",
            "391 59776471\n",
            "392 60236288\n",
            "393 60698457\n",
            "394 61162984\n",
            "395 61629875\n",
            "396 62099136\n",
            "397 62570773\n",
            "398 63044792\n",
            "399 63521199\n",
            "400 64000000\n",
            "401 64481201\n",
            "402 64964808\n",
            "403 65450827\n",
            "404 65939264\n",
            "405 66430125\n",
            "406 66923416\n",
            "407 67419143\n",
            "408 67917312\n",
            "409 68417929\n",
            "410 68921000\n",
            "411 69426531\n",
            "412 69934528\n",
            "413 70444997\n",
            "414 70957944\n",
            "415 71473375\n",
            "416 71991296\n",
            "417 72511713\n",
            "418 73034632\n",
            "419 73560059\n",
            "420 74088000\n",
            "421 74618461\n",
            "422 75151448\n",
            "423 75686967\n",
            "424 76225024\n",
            "425 76765625\n",
            "426 77308776\n",
            "427 77854483\n",
            "428 78402752\n",
            "429 78953589\n",
            "430 79507000\n",
            "431 80062991\n",
            "432 80621568\n",
            "433 81182737\n",
            "434 81746504\n",
            "435 82312875\n",
            "436 82881856\n",
            "437 83453453\n",
            "438 84027672\n",
            "439 84604519\n",
            "440 85184000\n",
            "441 85766121\n",
            "442 86350888\n",
            "443 86938307\n",
            "444 87528384\n",
            "445 88121125\n",
            "446 88716536\n",
            "447 89314623\n",
            "448 89915392\n",
            "449 90518849\n",
            "450 91125000\n",
            "451 91733851\n",
            "452 92345408\n",
            "453 92959677\n",
            "454 93576664\n",
            "455 94196375\n",
            "456 94818816\n",
            "457 95443993\n",
            "458 96071912\n",
            "459 96702579\n",
            "460 97336000\n",
            "461 97972181\n",
            "462 98611128\n",
            "463 99252847\n",
            "464 99897344\n",
            "465 100544625\n",
            "466 101194696\n",
            "467 101847563\n",
            "468 102503232\n",
            "469 103161709\n",
            "470 103823000\n",
            "471 104487111\n",
            "472 105154048\n",
            "473 105823817\n",
            "474 106496424\n",
            "475 107171875\n",
            "476 107850176\n",
            "477 108531333\n",
            "478 109215352\n",
            "479 109902239\n",
            "480 110592000\n",
            "481 111284641\n",
            "482 111980168\n",
            "483 112678587\n",
            "484 113379904\n",
            "485 114084125\n",
            "486 114791256\n",
            "487 115501303\n",
            "488 116214272\n",
            "489 116930169\n",
            "490 117649000\n",
            "491 118370771\n",
            "492 119095488\n",
            "493 119823157\n",
            "494 120553784\n",
            "495 121287375\n",
            "496 122023936\n",
            "497 122763473\n",
            "498 123505992\n",
            "499 124251499\n",
            "500 125000000\n",
            "501 125751501\n",
            "502 126506008\n",
            "503 127263527\n",
            "504 128024064\n",
            "505 128787625\n",
            "506 129554216\n",
            "507 130323843\n",
            "508 131096512\n",
            "509 131872229\n",
            "510 132651000\n",
            "511 133432831\n",
            "512 134217728\n",
            "513 135005697\n",
            "514 135796744\n",
            "515 136590875\n",
            "516 137388096\n",
            "517 138188413\n",
            "518 138991832\n",
            "519 139798359\n",
            "520 140608000\n",
            "521 141420761\n",
            "522 142236648\n",
            "523 143055667\n",
            "524 143877824\n",
            "525 144703125\n",
            "526 145531576\n",
            "527 146363183\n",
            "528 147197952\n",
            "529 148035889\n",
            "530 148877000\n",
            "531 149721291\n",
            "532 150568768\n",
            "533 151419437\n",
            "534 152273304\n",
            "535 153130375\n",
            "536 153990656\n",
            "537 154854153\n",
            "538 155720872\n",
            "539 156590819\n",
            "540 157464000\n",
            "541 158340421\n",
            "542 159220088\n",
            "543 160103007\n",
            "544 160989184\n",
            "545 161878625\n",
            "546 162771336\n",
            "547 163667323\n",
            "548 164566592\n",
            "549 165469149\n",
            "550 166375000\n",
            "551 167284151\n",
            "552 168196608\n",
            "553 169112377\n",
            "554 170031464\n",
            "555 170953875\n",
            "556 171879616\n",
            "557 172808693\n",
            "558 173741112\n",
            "559 174676879\n",
            "560 175616000\n",
            "561 176558481\n",
            "562 177504328\n",
            "563 178453547\n",
            "564 179406144\n",
            "565 180362125\n",
            "566 181321496\n",
            "567 182284263\n",
            "568 183250432\n",
            "569 184220009\n",
            "570 185193000\n",
            "571 186169411\n",
            "572 187149248\n",
            "573 188132517\n",
            "574 189119224\n",
            "575 190109375\n",
            "576 191102976\n",
            "577 192100033\n",
            "578 193100552\n",
            "579 194104539\n",
            "580 195112000\n",
            "581 196122941\n",
            "582 197137368\n",
            "583 198155287\n",
            "584 199176704\n",
            "585 200201625\n",
            "586 201230056\n",
            "587 202262003\n",
            "588 203297472\n",
            "589 204336469\n",
            "590 205379000\n",
            "591 206425071\n",
            "592 207474688\n",
            "593 208527857\n",
            "594 209584584\n",
            "595 210644875\n",
            "596 211708736\n",
            "597 212776173\n",
            "598 213847192\n",
            "599 214921799\n",
            "600 216000000\n",
            "601 217081801\n",
            "602 218167208\n",
            "603 219256227\n",
            "604 220348864\n",
            "605 221445125\n",
            "606 222545016\n",
            "607 223648543\n",
            "608 224755712\n",
            "609 225866529\n",
            "610 226981000\n",
            "611 228099131\n",
            "612 229220928\n",
            "613 230346397\n",
            "614 231475544\n",
            "615 232608375\n",
            "616 233744896\n",
            "617 234885113\n",
            "618 236029032\n",
            "619 237176659\n",
            "620 238328000\n",
            "621 239483061\n",
            "622 240641848\n",
            "623 241804367\n",
            "624 242970624\n",
            "625 244140625\n",
            "626 245314376\n",
            "627 246491883\n",
            "628 247673152\n",
            "629 248858189\n",
            "630 250047000\n",
            "631 251239591\n",
            "632 252435968\n",
            "633 253636137\n",
            "634 254840104\n",
            "635 256047875\n",
            "636 257259456\n",
            "637 258474853\n",
            "638 259694072\n",
            "639 260917119\n",
            "640 262144000\n",
            "641 263374721\n",
            "642 264609288\n",
            "643 265847707\n",
            "644 267089984\n",
            "645 268336125\n",
            "646 269586136\n",
            "647 270840023\n",
            "648 272097792\n",
            "649 273359449\n",
            "650 274625000\n",
            "651 275894451\n",
            "652 277167808\n",
            "653 278445077\n",
            "654 279726264\n",
            "655 281011375\n",
            "656 282300416\n",
            "657 283593393\n",
            "658 284890312\n",
            "659 286191179\n",
            "660 287496000\n",
            "661 288804781\n",
            "662 290117528\n",
            "663 291434247\n",
            "664 292754944\n",
            "665 294079625\n",
            "666 295408296\n",
            "667 296740963\n",
            "668 298077632\n",
            "669 299418309\n",
            "670 300763000\n",
            "671 302111711\n",
            "672 303464448\n",
            "673 304821217\n",
            "674 306182024\n",
            "675 307546875\n",
            "676 308915776\n",
            "677 310288733\n",
            "678 311665752\n",
            "679 313046839\n",
            "680 314432000\n",
            "681 315821241\n",
            "682 317214568\n",
            "683 318611987\n",
            "684 320013504\n",
            "685 321419125\n",
            "686 322828856\n",
            "687 324242703\n",
            "688 325660672\n",
            "689 327082769\n",
            "690 328509000\n",
            "691 329939371\n",
            "692 331373888\n",
            "693 332812557\n",
            "694 334255384\n",
            "695 335702375\n",
            "696 337153536\n",
            "697 338608873\n",
            "698 340068392\n",
            "699 341532099\n",
            "700 343000000\n",
            "701 344472101\n",
            "702 345948408\n",
            "703 347428927\n",
            "704 348913664\n",
            "705 350402625\n",
            "706 351895816\n",
            "707 353393243\n",
            "708 354894912\n",
            "709 356400829\n",
            "710 357911000\n",
            "711 359425431\n",
            "712 360944128\n",
            "713 362467097\n",
            "714 363994344\n",
            "715 365525875\n",
            "716 367061696\n",
            "717 368601813\n",
            "718 370146232\n",
            "719 371694959\n",
            "720 373248000\n",
            "721 374805361\n",
            "722 376367048\n",
            "723 377933067\n",
            "724 379503424\n",
            "725 381078125\n",
            "726 382657176\n",
            "727 384240583\n",
            "728 385828352\n",
            "729 387420489\n",
            "730 389017000\n",
            "731 390617891\n",
            "732 392223168\n",
            "733 393832837\n",
            "734 395446904\n",
            "735 397065375\n",
            "736 398688256\n",
            "737 400315553\n",
            "738 401947272\n",
            "739 403583419\n",
            "740 405224000\n",
            "741 406869021\n",
            "742 408518488\n",
            "743 410172407\n",
            "744 411830784\n",
            "745 413493625\n",
            "746 415160936\n",
            "747 416832723\n",
            "748 418508992\n",
            "749 420189749\n",
            "750 421875000\n",
            "751 423564751\n",
            "752 425259008\n",
            "753 426957777\n",
            "754 428661064\n",
            "755 430368875\n",
            "756 432081216\n",
            "757 433798093\n",
            "758 435519512\n",
            "759 437245479\n",
            "760 438976000\n",
            "761 440711081\n",
            "762 442450728\n",
            "763 444194947\n",
            "764 445943744\n",
            "765 447697125\n",
            "766 449455096\n",
            "767 451217663\n",
            "768 452984832\n",
            "769 454756609\n",
            "770 456533000\n",
            "771 458314011\n",
            "772 460099648\n",
            "773 461889917\n",
            "774 463684824\n",
            "775 465484375\n",
            "776 467288576\n",
            "777 469097433\n",
            "778 470910952\n",
            "779 472729139\n",
            "780 474552000\n",
            "781 476379541\n",
            "782 478211768\n",
            "783 480048687\n",
            "784 481890304\n",
            "785 483736625\n",
            "786 485587656\n",
            "787 487443403\n",
            "788 489303872\n",
            "789 491169069\n",
            "790 493039000\n",
            "791 494913671\n",
            "792 496793088\n",
            "793 498677257\n",
            "794 500566184\n",
            "795 502459875\n",
            "796 504358336\n",
            "797 506261573\n",
            "798 508169592\n",
            "799 510082399\n",
            "800 512000000\n",
            "801 513922401\n",
            "802 515849608\n",
            "803 517781627\n",
            "804 519718464\n",
            "805 521660125\n",
            "806 523606616\n",
            "807 525557943\n",
            "808 527514112\n",
            "809 529475129\n",
            "810 531441000\n",
            "811 533411731\n",
            "812 535387328\n",
            "813 537367797\n",
            "814 539353144\n",
            "815 541343375\n",
            "816 543338496\n",
            "817 545338513\n",
            "818 547343432\n",
            "819 549353259\n",
            "820 551368000\n",
            "821 553387661\n",
            "822 555412248\n",
            "823 557441767\n",
            "824 559476224\n",
            "825 561515625\n",
            "826 563559976\n",
            "827 565609283\n",
            "828 567663552\n",
            "829 569722789\n",
            "830 571787000\n",
            "831 573856191\n",
            "832 575930368\n",
            "833 578009537\n",
            "834 580093704\n",
            "835 582182875\n",
            "836 584277056\n",
            "837 586376253\n",
            "838 588480472\n",
            "839 590589719\n",
            "840 592704000\n",
            "841 594823321\n",
            "842 596947688\n",
            "843 599077107\n",
            "844 601211584\n",
            "845 603351125\n",
            "846 605495736\n",
            "847 607645423\n",
            "848 609800192\n",
            "849 611960049\n",
            "850 614125000\n",
            "851 616295051\n",
            "852 618470208\n",
            "853 620650477\n",
            "854 622835864\n",
            "855 625026375\n",
            "856 627222016\n",
            "857 629422793\n",
            "858 631628712\n",
            "859 633839779\n",
            "860 636056000\n",
            "861 638277381\n",
            "862 640503928\n",
            "863 642735647\n",
            "864 644972544\n",
            "865 647214625\n",
            "866 649461896\n",
            "867 651714363\n",
            "868 653972032\n",
            "869 656234909\n",
            "870 658503000\n",
            "871 660776311\n",
            "872 663054848\n",
            "873 665338617\n",
            "874 667627624\n",
            "875 669921875\n",
            "876 672221376\n",
            "877 674526133\n",
            "878 676836152\n",
            "879 679151439\n",
            "880 681472000\n",
            "881 683797841\n",
            "882 686128968\n",
            "883 688465387\n",
            "884 690807104\n",
            "885 693154125\n",
            "886 695506456\n",
            "887 697864103\n",
            "888 700227072\n",
            "889 702595369\n",
            "890 704969000\n",
            "891 707347971\n",
            "892 709732288\n",
            "893 712121957\n",
            "894 714516984\n",
            "895 716917375\n",
            "896 719323136\n",
            "897 721734273\n",
            "898 724150792\n",
            "899 726572699\n",
            "900 729000000\n",
            "901 731432701\n",
            "902 733870808\n",
            "903 736314327\n",
            "904 738763264\n",
            "905 741217625\n",
            "906 743677416\n",
            "907 746142643\n",
            "908 748613312\n",
            "909 751089429\n",
            "910 753571000\n",
            "911 756058031\n",
            "912 758550528\n",
            "913 761048497\n",
            "914 763551944\n",
            "915 766060875\n",
            "916 768575296\n",
            "917 771095213\n",
            "918 773620632\n",
            "919 776151559\n",
            "920 778688000\n",
            "921 781229961\n",
            "922 783777448\n",
            "923 786330467\n",
            "924 788889024\n",
            "925 791453125\n",
            "926 794022776\n",
            "927 796597983\n",
            "928 799178752\n",
            "929 801765089\n",
            "930 804357000\n",
            "931 806954491\n",
            "932 809557568\n",
            "933 812166237\n",
            "934 814780504\n",
            "935 817400375\n",
            "936 820025856\n",
            "937 822656953\n",
            "938 825293672\n",
            "939 827936019\n",
            "940 830584000\n",
            "941 833237621\n",
            "942 835896888\n",
            "943 838561807\n",
            "944 841232384\n",
            "945 843908625\n",
            "946 846590536\n",
            "947 849278123\n",
            "948 851971392\n",
            "949 854670349\n",
            "950 857375000\n",
            "951 860085351\n",
            "952 862801408\n",
            "953 865523177\n",
            "954 868250664\n",
            "955 870983875\n",
            "956 873722816\n",
            "957 876467493\n",
            "958 879217912\n",
            "959 881974079\n",
            "960 884736000\n",
            "961 887503681\n",
            "962 890277128\n",
            "963 893056347\n",
            "964 895841344\n",
            "965 898632125\n",
            "966 901428696\n",
            "967 904231063\n",
            "968 907039232\n",
            "969 909853209\n",
            "970 912673000\n",
            "971 915498611\n",
            "972 918330048\n",
            "973 921167317\n",
            "974 924010424\n",
            "975 926859375\n",
            "976 929714176\n",
            "977 932574833\n",
            "978 935441352\n",
            "979 938313739\n",
            "980 941192000\n",
            "981 944076141\n",
            "982 946966168\n",
            "983 949862087\n",
            "984 952763904\n",
            "985 955671625\n",
            "986 958585256\n",
            "987 961504803\n",
            "988 964430272\n",
            "989 967361669\n",
            "990 970299000\n",
            "991 973242271\n",
            "992 976191488\n",
            "993 979146657\n",
            "994 982107784\n",
            "995 985074875\n",
            "996 988047936\n",
            "997 991026973\n",
            "998 994011992\n",
            "999 997002999\n",
            "1000 1000000000\n"
          ],
          "name": "stdout"
        }
      ]
    },
    {
      "cell_type": "markdown",
      "metadata": {
        "id": "TgvUKub1SaYd",
        "colab_type": "text"
      },
      "source": [
        "#### Another Problem\n",
        "\n",
        "* Notice that the loop limit is embedded in the while condition. \n",
        "* It would be nice if this \"configuration data\" were separate from the program logic.\n",
        "* It would also be nice if we could change the limit dynamically without having to change the code, for example, as a function of user input.\n"
      ]
    },
    {
      "cell_type": "markdown",
      "metadata": {
        "id": "nsBw-emnSh5N",
        "colab_type": "text"
      },
      "source": [
        "#### A Better Version\n",
        "\n",
        "```\n",
        "limit = input('desired number of integers: ')\n",
        "i = 1\n",
        "while i <= limit:\n",
        "  print(i, i*i, i**3) # added cube to print\n",
        "  i += 1\n",
        "```\n",
        "* By using a variable, we can set the limit separately from the loop condition.\n",
        "* We can also set the limit dynamically, by gathering input from the end user."
      ]
    },
    {
      "cell_type": "code",
      "metadata": {
        "id": "vLJJo7vxZ86B",
        "colab_type": "code",
        "colab": {}
      },
      "source": [
        "limit = int(input('desired number of integers: '))\n",
        "i = 1\n",
        "while i <= limit:\n",
        "  print(i, i*i, i**3) # added cube to print\n",
        "  i += 1"
      ],
      "execution_count": null,
      "outputs": []
    },
    {
      "cell_type": "markdown",
      "metadata": {
        "id": "H3SwUvKaSmav",
        "colab_type": "text"
      },
      "source": [
        "### Challenge - Find the Bugs\n",
        "\n",
        "There are (at least) five bugs in this program. Can you find them?\n",
        "\n",
        "```\n",
        "start = input('desired starting integer: \")\n",
        "input('desired ending integer: ')\n",
        "while i < end:\n",
        "  print(i, i*i, i**3)\n",
        "```"
      ]
    },
    {
      "cell_type": "code",
      "metadata": {
        "id": "ko522SOWaR8z",
        "colab_type": "code",
        "colab": {}
      },
      "source": [
        "start = input('desired starting integer: \")\n",
        "input('desired ending integer: ')\n",
        "while i < end:\n",
        "  print(i, i*i, i**3)"
      ],
      "execution_count": null,
      "outputs": []
    },
    {
      "cell_type": "markdown",
      "metadata": {
        "id": "SKQbr1LtSrn3",
        "colab_type": "text"
      },
      "source": [
        "### Nested `while` Loops\n",
        "\n",
        "Just as we had if statements of if statements, we can have while loops of while loops (and so on...)\n",
        "```\n",
        "i = 1\n",
        "while i <= 3:\n",
        "    j = 1\n",
        "    while j <= 3:\n",
        "        print(i, '/', j, end='\\t')\n",
        "        j += 1\n",
        "    print()\n",
        "    i += 1\n",
        "```\n",
        "Result:\n",
        "```\n",
        "1 / 1    1 / 2    1 / 3\n",
        "2 / 1    2 / 2    2 / 3\n",
        "3 / 1    3 / 2    3 / 3\n",
        "```"
      ]
    },
    {
      "cell_type": "code",
      "metadata": {
        "id": "REmdxKuZa_Wu",
        "colab_type": "code",
        "colab": {
          "base_uri": "https://localhost:8080/",
          "height": 69
        },
        "outputId": "f54f5a17-2d81-43b7-cd4a-e259a755dcc4"
      },
      "source": [
        "i = 1\n",
        "while i <= 3:\n",
        "    j = 1\n",
        "    while j <= 3:\n",
        "        print('i=' + str(i), '/', 'j=' + str(j), end='\\t')\n",
        "        j += 1\n",
        "    print()\n",
        "    i += 1"
      ],
      "execution_count": null,
      "outputs": [
        {
          "output_type": "stream",
          "text": [
            "i=1 / j=1\ti=1 / j=2\ti=1 / j=3\t\n",
            "i=2 / j=1\ti=2 / j=2\ti=2 / j=3\t\n",
            "i=3 / j=1\ti=3 / j=2\ti=3 / j=3\t\n"
          ],
          "name": "stdout"
        }
      ]
    },
    {
      "cell_type": "markdown",
      "metadata": {
        "id": "st1iRuMPSw0c",
        "colab_type": "text"
      },
      "source": [
        "## Infinite Loops\n",
        "\n",
        "* An infinite loop is a loop that never ends.\n",
        "* This is usually not by design (!).\n",
        "\n",
        "Does this loop end?\n",
        "```\n",
        "i = 1\n",
        "while i <= 3:\n",
        "    print(i, i*i, i**3)\n",
        "```\n",
        "Challenge: how about this one...\n",
        "```\n",
        "i = 5\n",
        "while i != 0:\n",
        "    print(i, i*i, i**3)\n",
        "    i -= 2 # same as i = i - 2\n",
        "```"
      ]
    },
    {
      "cell_type": "code",
      "metadata": {
        "id": "Ua-ZkxmzKIMd",
        "colab_type": "code",
        "colab": {}
      },
      "source": [
        "i = 5\n",
        "while i != 0:\n",
        "    print(i, i*i, i**3)\n",
        "    i -= 2 # same as i = i - 2"
      ],
      "execution_count": null,
      "outputs": []
    },
    {
      "cell_type": "markdown",
      "metadata": {
        "id": "AdFfAcuaS337",
        "colab_type": "text"
      },
      "source": [
        "### Debugging Infinite Loops\n",
        "\n",
        "* inserting print statements to see what's going on\n",
        "* we call this \"tracing code\"\n",
        "* when problem fixed, you can comment out or delete your tracing code\n",
        "\n",
        "Example:\n",
        "```\n",
        "# calculate sum of first n integers\n",
        "i = 1\n",
        "n = 20\n",
        "sum = 0\n",
        "while i <= n:    \n",
        "    sum += i    \n",
        "    i += 1\n",
        "    #print('i:', i, 'sum:', sum)\n",
        "print('sum of 1 to', n, '=', sum)\n",
        "```"
      ]
    },
    {
      "cell_type": "code",
      "metadata": {
        "id": "yfLkPdPhb3AR",
        "colab_type": "code",
        "colab": {
          "base_uri": "https://localhost:8080/",
          "height": 381
        },
        "outputId": "51515c42-ae06-4261-88a3-2fa00740d122"
      },
      "source": [
        "# calculate sum of first n integers\n",
        "i = 1\n",
        "n = 20\n",
        "sum = 0\n",
        "while i <= n:\n",
        "    print('i:', i, 'sum:', sum)    \n",
        "    sum += i    \n",
        "    i += 1\n",
        "print('sum of 1 to', n, '=', sum)"
      ],
      "execution_count": null,
      "outputs": [
        {
          "output_type": "stream",
          "text": [
            "i: 1 sum: 0\n",
            "i: 2 sum: 1\n",
            "i: 3 sum: 3\n",
            "i: 4 sum: 6\n",
            "i: 5 sum: 10\n",
            "i: 6 sum: 15\n",
            "i: 7 sum: 21\n",
            "i: 8 sum: 28\n",
            "i: 9 sum: 36\n",
            "i: 10 sum: 45\n",
            "i: 11 sum: 55\n",
            "i: 12 sum: 66\n",
            "i: 13 sum: 78\n",
            "i: 14 sum: 91\n",
            "i: 15 sum: 105\n",
            "i: 16 sum: 120\n",
            "i: 17 sum: 136\n",
            "i: 18 sum: 153\n",
            "i: 19 sum: 171\n",
            "i: 20 sum: 190\n",
            "sum of 1 to 20 = 210\n"
          ],
          "name": "stdout"
        }
      ]
    },
    {
      "cell_type": "markdown",
      "metadata": {
        "id": "ENIYYIIAS6n4",
        "colab_type": "text"
      },
      "source": [
        "### This progam is fail-safe, right?\n",
        "```\n",
        "start = int(input('starting integer: '))\n",
        "end   = int(input('ending integer: '))\n",
        "incr  = int(input('increment: '))\n",
        "i = start\n",
        "while i <= end:\n",
        "    print(i, i*i, i**3, i**4)\n",
        "    i += incr\n",
        "```\n",
        "Is there any way this program can go into an infinite loop?"
      ]
    },
    {
      "cell_type": "code",
      "metadata": {
        "id": "6hfM6nnZcXIY",
        "colab_type": "code",
        "colab": {}
      },
      "source": [
        "start = int(input('starting integer: '))\n",
        "end   = int(input('ending integer: '))\n",
        "incr  = int(input('increment: '))\n",
        "i = start\n",
        "while i <= end:\n",
        "    print(i, i*i, i**3, i**4)\n",
        "    i += incr"
      ],
      "execution_count": null,
      "outputs": []
    },
    {
      "cell_type": "markdown",
      "metadata": {
        "id": "IkdjHn4fTCWC",
        "colab_type": "text"
      },
      "source": [
        "### Trusting User Input\n",
        "\n",
        "* Getting input from external sources adds flexibility because program behavior can be changed at runtime (without requiring you to change your code).\n",
        "* The price of that flexibility is that you have to worry about the consequences of receiving bad input\n",
        "* Postel's Law: “Be liberal in what you accept, and conservative in what you send”.\n"
      ]
    },
    {
      "cell_type": "markdown",
      "metadata": {
        "id": "9lG09G45TH81",
        "colab_type": "text"
      },
      "source": [
        "### A More Robust Version\n",
        "```\n",
        "import sys # needed for exit() function\n",
        "start = int(input('starting integer: '))\n",
        "end   = int(input('ending integer: '))\n",
        "incr  = int(input('increment (>0): '))\n",
        "if (incr <= 0):\n",
        "    sys.exit('incr must be positive')\n",
        "i = start\n",
        "while i <= end:\n",
        "    print(i, i*i, i**3, i**4)\n",
        "    i += incr\n",
        "```\n",
        "* you should also verify start and end are numeric\n",
        "* you can do that with the string method isnumeric()"
      ]
    },
    {
      "cell_type": "code",
      "metadata": {
        "id": "lJTYUWHPdF-a",
        "colab_type": "code",
        "colab": {}
      },
      "source": [
        "import sys # needed for exit() function\n",
        "start = int(input('starting integer: '))\n",
        "end   = int(input('ending integer: '))\n",
        "incr  = int(input('increment (>0): '))\n",
        "if (incr <= 0):\n",
        "    sys.exit('incr must be positive')\n",
        "i = start\n",
        "while i <= end:\n",
        "    print(i, i*i, i**3, i**4)\n",
        "    i += incr"
      ],
      "execution_count": null,
      "outputs": []
    },
    {
      "cell_type": "markdown",
      "metadata": {
        "id": "8wvYpiXnTNJ7",
        "colab_type": "text"
      },
      "source": [
        "## `break` Statement\n",
        "\n",
        "* The break statement exits a loop immediately.\n",
        "* It's often used to exit a loop under certain circumstances.\n",
        "* It's Python's way of saying \"get me out of here!\""
      ]
    },
    {
      "cell_type": "markdown",
      "metadata": {
        "id": "YRK-XYHkTTm6",
        "colab_type": "text"
      },
      "source": [
        "### `break` Example\n",
        "\n",
        "* Our last version catches bad input but is very unforgiving - it exits as soon as it gets bad input.\n",
        "* This version gives the user more chances to get it right...\n",
        "```\n",
        "while True:\n",
        "    incr = int(input('increment (>0): '))    \n",
        "    if incr > 0:        \n",
        "        break\n",
        "    print('bad input, increment must be positive')\n",
        "print('off we go...')\n",
        "```"
      ]
    },
    {
      "cell_type": "code",
      "metadata": {
        "id": "2_1tN8gtdmVT",
        "colab_type": "code",
        "colab": {}
      },
      "source": [
        "while True:\n",
        "    incr = int(input('increment (>0): '))    \n",
        "    if incr > 0:        \n",
        "        break\n",
        "    print('bad input, increment must be positive')\n",
        "print('off we go...')"
      ],
      "execution_count": null,
      "outputs": []
    },
    {
      "cell_type": "markdown",
      "metadata": {
        "id": "AY_A5OeUTZQu",
        "colab_type": "text"
      },
      "source": [
        "## `continue` Statement\n",
        "\n",
        "* The continue statement jumps to the top of a loop immediately.\n",
        "* The loop condition is retested and the next iteration begun (if true) or the loop is exited (if false).\n",
        "* It's Python's way of saying \"let's take it from the top\"."
      ]
    },
    {
      "cell_type": "markdown",
      "metadata": {
        "id": "Q2wRue3kThIS",
        "colab_type": "text"
      },
      "source": [
        "### `continue` Example\n",
        "\n",
        "* Assume we want `start` and `end` to be positive.\n",
        "* If the `start` value is bad, don't bother prompting for `end`.\n",
        "```\n",
        "start = 0\n",
        "end = 0\n",
        "while (start <= 0) and (end <= 0):    \n",
        "    if start <= 0:\n",
        "        start = int(input('starting integer (>0): '))        \n",
        "        if (start <= 0):            \n",
        "            continue\n",
        "    if end <= 0:\n",
        "        end = int(input('ending integer (>0): '))\n",
        "        if end <= 0:            \n",
        "            continue\n",
        "    print(‘using start’, start, ‘and end’, end)\n",
        "```"
      ]
    },
    {
      "cell_type": "code",
      "metadata": {
        "id": "QvB8W2jYeTxu",
        "colab_type": "code",
        "colab": {
          "base_uri": "https://localhost:8080/",
          "height": 123
        },
        "outputId": "8fc905c7-085d-4c3d-9e9f-ac9d293441b0"
      },
      "source": [
        "start = 0\n",
        "end = 0\n",
        "while (start <= 0) or (end <= 0):    \n",
        "  if start <= 0:\n",
        "      start = int(input('starting integer (>0): '))        \n",
        "      if (start <= 0):            \n",
        "          continue\n",
        "  if end <= 0:\n",
        "      end = int(input('ending integer (>0): '))\n",
        "      if end <= 0:            \n",
        "          continue\n",
        "print('using start', start, 'and end', end)"
      ],
      "execution_count": null,
      "outputs": [
        {
          "output_type": "stream",
          "text": [
            "starting integer (>0): -3\n",
            "starting integer (>0): -2\n",
            "starting integer (>0): 2\n",
            "ending integer (>0): -3\n",
            "ending integer (>0): 4\n",
            "using start 2 and end 4\n"
          ],
          "name": "stdout"
        }
      ]
    },
    {
      "cell_type": "markdown",
      "metadata": {
        "id": "Xd8m9FBrE5vy",
        "colab_type": "text"
      },
      "source": [
        "## `for` Loops"
      ]
    },
    {
      "cell_type": "markdown",
      "metadata": {
        "id": "PCTNx0RFcOkP",
        "colab_type": "text"
      },
      "source": [
        "* `while` loops repeat program logic based on a condition.\n",
        "* `for` loops repeat program logic based on the contents of a sequence .\n",
        "* We say they \"iterate over a sequence\".\n",
        "\n",
        "For example, this program prints the characters in a string, one character per line:\n",
        "```\n",
        "mystr = 'this is a test'\n",
        "for i in mystr:\n",
        "    print(i)\n",
        "```\n",
        "Result:\n",
        "```\n",
        "t\n",
        "h \n",
        "i\n",
        "s\n",
        "...\n",
        "``` \n"
      ]
    },
    {
      "cell_type": "code",
      "metadata": {
        "id": "539McyKLfPEN",
        "colab_type": "code",
        "colab": {
          "base_uri": "https://localhost:8080/",
          "height": 121
        },
        "outputId": "ea078d8e-c35f-4293-9305-174457a65d69"
      },
      "source": [
        "for marc in 'Python':\n",
        "    print(marc)"
      ],
      "execution_count": null,
      "outputs": [
        {
          "output_type": "stream",
          "text": [
            "P\n",
            "y\n",
            "t\n",
            "h\n",
            "o\n",
            "n\n"
          ],
          "name": "stdout"
        }
      ]
    },
    {
      "cell_type": "markdown",
      "metadata": {
        "id": "wtMnz7Fxcfn6",
        "colab_type": "text"
      },
      "source": [
        "### Numerical `for` Loop\n",
        "\n",
        "* For loops can also be used with a sequence of numbers, similar to while loops.\n",
        "* For example, this program prints the first three integers and their squares...\n",
        "```\n",
        "for i in (1, 2, 3):\n",
        "    print(i, i*i)\n",
        "```\n",
        "Result:\n",
        "```\n",
        "1 1\n",
        "2 4 \n",
        "3 9\n",
        "```\n",
        "* Notice a big advantage over while loops:  there's no need to separately initialize and increment a loop counter.\n",
        "* But enumerating the range of numbers is cumbersome."
      ]
    },
    {
      "cell_type": "code",
      "metadata": {
        "id": "v_dWVSGyMwrT",
        "colab_type": "code",
        "colab": {
          "base_uri": "https://localhost:8080/",
          "height": 121
        },
        "outputId": "43c2863e-4c24-409e-f3dc-831433dd5832"
      },
      "source": [
        "for i in (1,2,3, 4, 5, 6, 7, 8, 9, 10):\n",
        "  print(i, i*i)"
      ],
      "execution_count": null,
      "outputs": [
        {
          "output_type": "stream",
          "text": [
            "1 1\n",
            "2 4\n",
            "3 9\n",
            "4 16\n",
            "5 25\n",
            "6 36\n"
          ],
          "name": "stdout"
        }
      ]
    },
    {
      "cell_type": "markdown",
      "metadata": {
        "id": "6SHyjI-hci-f",
        "colab_type": "text"
      },
      "source": [
        "### The `range()` Function\n",
        "\n",
        "* the Python `range()` function generates a sequence of numbers\n",
        "* prototype:  range([start], end, [increment])\n",
        "* start is optional and defaults to zero\n",
        "* end is required and terminates the sequence at end-1\n",
        "increment dictates the interval between elements\n",
        "* increment is optional and the defaults to one\n",
        "* `range()` returns a special Python type called a \"range\""
      ]
    },
    {
      "cell_type": "code",
      "metadata": {
        "id": "Lwitbnh5ge4G",
        "colab_type": "code",
        "colab": {
          "base_uri": "https://localhost:8080/",
          "height": 208
        },
        "outputId": "fb32fc2b-e473-4c8e-d7ee-828c656f4685"
      },
      "source": [
        "for i in range(0, 10):\n",
        "  print(i, i*i)\n",
        "\n",
        "print(type(range(40000000)))"
      ],
      "execution_count": null,
      "outputs": [
        {
          "output_type": "stream",
          "text": [
            "0 0\n",
            "1 1\n",
            "2 4\n",
            "3 9\n",
            "4 16\n",
            "5 25\n",
            "6 36\n",
            "7 49\n",
            "8 64\n",
            "9 81\n",
            "<class 'range'>\n"
          ],
          "name": "stdout"
        }
      ]
    },
    {
      "cell_type": "markdown",
      "metadata": {
        "id": "ra4Hf2e7corj",
        "colab_type": "text"
      },
      "source": [
        "#### `range` works great in `for` loops\n",
        "\n",
        "Print the print first 100 integers and their squares\n",
        "```\n",
        "for i in range(1, 21):\n",
        "    print(i, i*i)\n",
        "```\n"
      ]
    },
    {
      "cell_type": "code",
      "metadata": {
        "id": "pX3GzULNhERU",
        "colab_type": "code",
        "colab": {}
      },
      "source": [
        "for i in range(1, 21):\n",
        "    print(i, i*i)"
      ],
      "execution_count": null,
      "outputs": []
    },
    {
      "cell_type": "code",
      "metadata": {
        "id": "_T--pSwpg1DM",
        "colab_type": "code",
        "colab": {}
      },
      "source": [
        "print('X', end='\\t')\n",
        "for i in range(1, 10):\n",
        "    print(i, end='\\t') # column headings\n",
        "print()\n",
        "for i in range(1, 10):\n",
        "    print(i, end='\\t') # row headings\n",
        "    for j in range(1, 10):\n",
        "        print(i * j, end='\\t') # products\n",
        "    # print newline at end of each row\n",
        "    print()"
      ],
      "execution_count": null,
      "outputs": []
    },
    {
      "cell_type": "markdown",
      "metadata": {
        "id": "9J7RI7TYcVeS",
        "colab_type": "text"
      },
      "source": [
        "### Nested `for` Loop\n",
        "\n",
        "* Just as we have seen `if` statements of `if` statements, and `while` loops of `while` loops, we can have `for` loops of `for` loops (and so on...)\n",
        "\n",
        "Example: print a 9-by-9 multiplication table\n",
        "```\n",
        "print('X', end='\\t')\n",
        "for i in range(1, 10):\n",
        "    print(i, end='\\t') # column headings\n",
        "print()\n",
        "for i in range(1, 10):\n",
        "    print(i, end='\\t') # row headings\n",
        "    for j in range(1, 10):\n",
        "        print(i * j, end='\\t') # products\n",
        "    # print newline at end of each row\n",
        "    print()\n",
        "```\n"
      ]
    },
    {
      "cell_type": "code",
      "metadata": {
        "id": "KMMZJ0IKeWG4",
        "colab_type": "code",
        "colab": {
          "base_uri": "https://localhost:8080/",
          "height": 191
        },
        "outputId": "55faaecf-6e82-4ab1-bdfd-9d03706addbd"
      },
      "source": [
        "print('X', end='\\t')\n",
        "for i in range(1, 10):\n",
        "    print(i, end='\\t') # column headings\n",
        "print()\n",
        "for i in range(1, 10):\n",
        "    print(i, end='\\t') # row headings\n",
        "    for j in range(1, 10):\n",
        "        print(i * j, end='\\t') # products\n",
        "    # print newline at end of each row\n",
        "    print()"
      ],
      "execution_count": null,
      "outputs": [
        {
          "output_type": "stream",
          "text": [
            "X\t1\t2\t3\t4\t5\t6\t7\t8\t9\t\n",
            "1\t1\t2\t3\t4\t5\t6\t7\t8\t9\t\n",
            "2\t2\t4\t6\t8\t10\t12\t14\t16\t18\t\n",
            "3\t3\t6\t9\t12\t15\t18\t21\t24\t27\t\n",
            "4\t4\t8\t12\t16\t20\t24\t28\t32\t36\t\n",
            "5\t5\t10\t15\t20\t25\t30\t35\t40\t45\t\n",
            "6\t6\t12\t18\t24\t30\t36\t42\t48\t54\t\n",
            "7\t7\t14\t21\t28\t35\t42\t49\t56\t63\t\n",
            "8\t8\t16\t24\t32\t40\t48\t56\t64\t72\t\n",
            "9\t9\t18\t27\t36\t45\t54\t63\t72\t81\t\n"
          ],
          "name": "stdout"
        }
      ]
    },
    {
      "cell_type": "markdown",
      "metadata": {
        "id": "T5vnlVm8gOPP",
        "colab_type": "text"
      },
      "source": [
        "# Preview of Next Lesson (Functions and Modules)\n"
      ]
    },
    {
      "cell_type": "markdown",
      "metadata": {
        "id": "RqMedi25QEfu",
        "colab_type": "text"
      },
      "source": [
        "Here's an example function definition:\n",
        "```\n",
        "# N! (N factorial) is 1*2*3* ... *N-1*N\n",
        "def fact(n):\n",
        "    ''' print the factorial of a given number '''\n",
        "    fact = 1\n",
        "    for i in range(1, n+1):\n",
        "        fact *= i\n",
        "    print(fact)\n",
        "```\n",
        "And here's how we would call this function:\n",
        "\n",
        "```\n",
        "fact(10)\n",
        "```\n"
      ]
    },
    {
      "cell_type": "code",
      "metadata": {
        "id": "bKjYug7HQZKh",
        "colab_type": "code",
        "colab": {
          "base_uri": "https://localhost:8080/",
          "height": 35
        },
        "outputId": "8faae094-c236-4637-cc0e-c89d288b428d"
      },
      "source": [
        "# N! (N factorial) is 1*2*...N-1*N\n",
        "def fact(n):\n",
        "    ''' print the factorial of a given number '''\n",
        "    fact = 1\n",
        "    for i in range(1, n+1):\n",
        "        fact *= i # fact = fact * i\n",
        "    print(fact)\n",
        "\n",
        "fact(10)"
      ],
      "execution_count": null,
      "outputs": [
        {
          "output_type": "stream",
          "text": [
            "3628800\n"
          ],
          "name": "stdout"
        }
      ]
    },
    {
      "cell_type": "markdown",
      "metadata": {
        "id": "nkxuivpM_Qis",
        "colab_type": "text"
      },
      "source": [
        "# Example Program - Image Manipulation"
      ]
    },
    {
      "cell_type": "code",
      "metadata": {
        "id": "zgm5En-W68X6",
        "colab_type": "code",
        "colab": {}
      },
      "source": [
        "from IPython.display import display, Javascript\n",
        "from google.colab.output import eval_js\n",
        "from base64 import b64decode\n",
        "\n",
        "def take_photo(filename='photo.jpg', quality=0.8):\n",
        "  js = Javascript('''\n",
        "    async function takePhoto(quality) {\n",
        "      const div = document.createElement('div');\n",
        "      const capture = document.createElement('button');\n",
        "      capture.textContent = 'Capture';\n",
        "      div.appendChild(capture);\n",
        "\n",
        "      const video = document.createElement('video');\n",
        "      video.style.display = 'block';\n",
        "      const stream = await navigator.mediaDevices.getUserMedia({video: true});\n",
        "\n",
        "      document.body.appendChild(div);\n",
        "      div.appendChild(video);\n",
        "      video.srcObject = stream;\n",
        "      await video.play();\n",
        "\n",
        "      // Resize the output to fit the video element.\n",
        "      google.colab.output.setIframeHeight(document.documentElement.scrollHeight, true);\n",
        "\n",
        "      // Wait for Capture to be clicked.\n",
        "      await new Promise((resolve) => capture.onclick = resolve);\n",
        "\n",
        "      const canvas = document.createElement('canvas');\n",
        "      canvas.width = video.videoWidth;\n",
        "      canvas.height = video.videoHeight;\n",
        "      canvas.getContext('2d').drawImage(video, 0, 0);\n",
        "      stream.getVideoTracks()[0].stop();\n",
        "      div.remove();\n",
        "      return canvas.toDataURL('image/jpeg', quality);\n",
        "    }\n",
        "    ''')\n",
        "  display(js)\n",
        "  data = eval_js('takePhoto({})'.format(quality))\n",
        "  binary = b64decode(data.split(',')[1])\n",
        "  with open(filename, 'wb') as f:\n",
        "    f.write(binary)\n",
        "  return filename"
      ],
      "execution_count": null,
      "outputs": []
    },
    {
      "cell_type": "code",
      "metadata": {
        "id": "dYX852fU68Xf",
        "colab_type": "code",
        "colab": {
          "base_uri": "https://localhost:8080/",
          "height": 532
        },
        "outputId": "d00e56ec-be0e-47d9-f92e-f21844c1edf6"
      },
      "source": [
        "from IPython.display import Image\n",
        "try:\n",
        "  filename = take_photo()\n",
        "  print('Saved to {}'.format(filename))\n",
        "  \n",
        "  # Show the image which was just taken.\n",
        "  image = Image(filename)\n",
        "  display(image)\n",
        "  print(image.height, image.width)\n",
        "except Exception as err:\n",
        "  # Errors will be thrown if the user does not have a webcam or if they do not\n",
        "  # grant the page permission to access it.\n",
        "  print(str(err))\n",
        "\n"
      ],
      "execution_count": null,
      "outputs": [
        {
          "output_type": "display_data",
          "data": {
            "application/javascript": [
              "\n",
              "    async function takePhoto(quality) {\n",
              "      const div = document.createElement('div');\n",
              "      const capture = document.createElement('button');\n",
              "      capture.textContent = 'Capture';\n",
              "      div.appendChild(capture);\n",
              "\n",
              "      const video = document.createElement('video');\n",
              "      video.style.display = 'block';\n",
              "      const stream = await navigator.mediaDevices.getUserMedia({video: true});\n",
              "\n",
              "      document.body.appendChild(div);\n",
              "      div.appendChild(video);\n",
              "      video.srcObject = stream;\n",
              "      await video.play();\n",
              "\n",
              "      // Resize the output to fit the video element.\n",
              "      google.colab.output.setIframeHeight(document.documentElement.scrollHeight, true);\n",
              "\n",
              "      // Wait for Capture to be clicked.\n",
              "      await new Promise((resolve) => capture.onclick = resolve);\n",
              "\n",
              "      const canvas = document.createElement('canvas');\n",
              "      canvas.width = video.videoWidth;\n",
              "      canvas.height = video.videoHeight;\n",
              "      canvas.getContext('2d').drawImage(video, 0, 0);\n",
              "      stream.getVideoTracks()[0].stop();\n",
              "      div.remove();\n",
              "      return canvas.toDataURL('image/jpeg', quality);\n",
              "    }\n",
              "    "
            ],
            "text/plain": [
              "<IPython.core.display.Javascript object>"
            ]
          },
          "metadata": {
            "tags": []
          }
        },
        {
          "output_type": "stream",
          "text": [
            "Saved to photo.jpg\n"
          ],
          "name": "stdout"
        },
        {
          "output_type": "display_data",
          "data": {
            "image/jpeg": "[encoded data removed]",
            "text/plain": [
              "<IPython.core.display.Image object>"
            ]
          },
          "metadata": {
            "tags": []
          }
        },
        {
          "output_type": "stream",
          "text": [
            "None None\n"
          ],
          "name": "stdout"
        }
      ]
    },
    {
      "cell_type": "code",
      "metadata": {
        "id": "q5aouQQq-Feq",
        "colab_type": "code",
        "colab": {
          "base_uri": "https://localhost:8080/",
          "height": 539
        },
        "outputId": "1964c847-0e85-447e-8e3c-3f06b88be175"
      },
      "source": [
        "import matplotlib.pyplot as plt\n",
        "I = plt.imread('photo.jpg')\n",
        "I = I.sum(axis=-1)\n",
        "plt.figure()\n",
        "plt.imshow(I, cmap=\"gray\")\n",
        "iterations = 10\n",
        "for x in range(iterations):\n",
        "  for i in range(1,I.shape[0]-1):\n",
        "    for j in range(1,I.shape[1]-1):\n",
        "      I[i,j] = (\n",
        "                 I[i-1,j-1] + I[i-1,j] + I[i-1,j+1] +\n",
        "                 I[i,j-1]   + I[i,j]   + I[i,j+1] +\n",
        "                 I[i+1,j-1] + I[i+1,j] + I[i+1,j+1]\n",
        "                ) / 9.0\n",
        "plt.figure()\n",
        "plt.imshow(I, cmap=\"gray\")"
      ],
      "execution_count": null,
      "outputs": [
        {
          "output_type": "execute_result",
          "data": {
            "text/plain": [
              "<matplotlib.image.AxesImage at 0x7fd649a7c550>"
            ]
          },
          "metadata": {
            "tags": []
          },
          "execution_count": 67
        },
        {
          "output_type": "display_data",
          "data": {
            "image/png": "[encoded data removed]",
            "text/plain": [
              "<Figure size 432x288 with 1 Axes>"
            ]
          },
          "metadata": {
            "tags": [],
            "needs_background": "light"
          }
        },
        {
          "output_type": "display_data",
          "data": {
            "image/png": "[encoded data removed]",
            "text/plain": [
              "<Figure size 432x288 with 1 Axes>"
            ]
          },
          "metadata": {
            "tags": [],
            "needs_background": "light"
          }
        }
      ]
    },
    {
      "cell_type": "markdown",
      "metadata": {
        "id": "jBs305Ht_KLo",
        "colab_type": "text"
      },
      "source": [
        "# Homework"
      ]
    },
    {
      "cell_type": "markdown",
      "metadata": {
        "id": "mGfNQFRGUtYI",
        "colab_type": "text"
      },
      "source": [
        "* Make a copy of this notebook (if you haven't already done so) and complete the challenges above. You can make a copy of this notebook by selecting File->Save a copy in Drive from the menu bar above.\n",
        "* Review your copy of this notebook.\n",
        "  * Complete all the challenges above.\n",
        "  * Complete the four questions below.\n",
        "  * If something is unclear, experiment and see if you can understand it better.\n",
        "* Read Chapter 3 (Functions) in the free online version of [Automate the Boring Stuff with Python](http://automatetheboringstuff.com/).\n",
        "* For next class...\n",
        "  * install your own copy of Python by visiting https://www.python.org/downloads/ and following the insructions there.\n",
        "  * Email me (marc@mco.dev) if you have any problems.\n"
      ]
    },
    {
      "cell_type": "markdown",
      "metadata": {
        "id": "Dd1FNOpnK0-D",
        "colab_type": "text"
      },
      "source": [
        "## Question 1\n",
        "\n",
        "* Using a while loop, repeatedly prompt the user for an input string, and print the input string. \n",
        "* Exit the loop when the user enters only the character ‘q’ or an empty string.\n",
        "```\n",
        "Enter a string (‘q’ to quit): this is a test\n",
        "You entered: this is a test\n",
        "Enter a string (‘q’ to quit): another test\n",
        "You entered: another test\n",
        "Enter a string (‘q’ to quit): q\n",
        "Exiting...\n",
        "```"
      ]
    },
    {
      "cell_type": "code",
      "metadata": {
        "id": "orMwPRauWCOU",
        "colab_type": "code",
        "colab": {}
      },
      "source": [
        "# Add your code here"
      ],
      "execution_count": null,
      "outputs": []
    },
    {
      "cell_type": "code",
      "metadata": {
        "id": "314VvVKCMIzK",
        "colab_type": "code",
        "cellView": "form",
        "colab": {}
      },
      "source": [
        "#@title Double click here to reveal solution\n",
        "\n",
        "Coming soon."
      ],
      "execution_count": null,
      "outputs": []
    },
    {
      "cell_type": "markdown",
      "metadata": {
        "id": "So9vQ1trLJLX",
        "colab_type": "text"
      },
      "source": [
        "## Question 2\n",
        "\n",
        "Building on the previous program, for each string entered, print the string as entered, followed by an all upper case version and an all lower case version, like this:\n",
        "```\n",
        "Enter a string (‘q’ to quit):  I Am The Walrus\n",
        "Original string: I Am The Walrus\n",
        "Upper case:      I AM THE WALRUS\n",
        "Lower case:      i am the walrus\n",
        "```"
      ]
    },
    {
      "cell_type": "code",
      "metadata": {
        "id": "-8rQKJmiLSsa",
        "colab_type": "code",
        "colab": {}
      },
      "source": [
        "# Add your code here"
      ],
      "execution_count": null,
      "outputs": []
    },
    {
      "cell_type": "code",
      "metadata": {
        "id": "M_bufOMUMfxj",
        "colab_type": "code",
        "cellView": "form",
        "colab": {}
      },
      "source": [
        "#@title Double click here to reveal solution\n",
        "\n",
        "Coming soon."
      ],
      "execution_count": null,
      "outputs": []
    },
    {
      "cell_type": "markdown",
      "metadata": {
        "id": "1jH-_bNlLcHc",
        "colab_type": "text"
      },
      "source": [
        "## Question 3 \n",
        "\n",
        "Building on the previous program, for each string entered, print whether the entered string is all upper, all lower or mixed case, like this:\n",
        "```\n",
        "Enter a string (‘q’ to quit): this is a test\n",
        "You entered: this is a test, which is all lowercase\n",
        "Enter a string (‘q’ to quit): ANOTHER TEST\n",
        "You entered: ANOTHER TEST, which is all upper case\n",
        "Enter a string (‘q’ to quit): mIxEd CaSe\n",
        "You entered: mIxEd CaSe, which is mixed case\n",
        "```\n",
        "Hints:\n",
        "* Use a for loop to examine the characters in the string.\n",
        "* Use isupper() and islower() string methods to examine the case of each character in the loop.\n",
        "* What can you infer by counting the upper and lower case characters in a given string?\n"
      ]
    },
    {
      "cell_type": "code",
      "metadata": {
        "id": "rXOX2g4-Ll-9",
        "colab_type": "code",
        "colab": {}
      },
      "source": [
        "# Add your code here"
      ],
      "execution_count": null,
      "outputs": []
    },
    {
      "cell_type": "code",
      "metadata": {
        "id": "-DTi8KY4O95w",
        "colab_type": "code",
        "cellView": "form",
        "colab": {}
      },
      "source": [
        "#@title Double click here to reveal solution\n",
        "\n",
        "Coming soon."
      ],
      "execution_count": null,
      "outputs": []
    },
    {
      "cell_type": "markdown",
      "metadata": {
        "id": "9LYTJHnh0mPe",
        "colab_type": "text"
      },
      "source": [
        "## Question 4\n",
        "\n",
        "* The factorial of a number (written x!) is the product of 1, 2, ..., x.\n",
        "* In other words, it's the result of multiplying 1, 2, ..., all the way up to (and including) the number x itself.  \n",
        "* Prompt the user for a number and print a table of factorials from 1 up to the entered number. \n",
        "* For example, if the user inputs 5, the output should look something like this (with table headings):\n",
        "```\n",
        "x    x!\n",
        "1    1\n",
        "2    2\n",
        "3    6\n",
        "4    24\n",
        "5    120\n",
        "```\n",
        "Don't worry if your columns don't line up perfectly."
      ]
    },
    {
      "cell_type": "code",
      "metadata": {
        "id": "p4ETVG0e02DZ",
        "colab_type": "code",
        "colab": {}
      },
      "source": [
        "# Add your code here"
      ],
      "execution_count": null,
      "outputs": []
    },
    {
      "cell_type": "code",
      "metadata": {
        "id": "2NBHmKwS04qd",
        "colab_type": "code",
        "cellView": "form",
        "colab": {}
      },
      "source": [
        "#@title Double click here to reveal solution\n",
        "\n",
        "Coming soon."
      ],
      "execution_count": null,
      "outputs": []
    },
    {
      "cell_type": "markdown",
      "metadata": {
        "id": "GSNOwwS5dFSh",
        "colab_type": "text"
      },
      "source": [
        "## Question 5\n",
        "\n",
        "* Repeatedly prompt the user for a string (until receiving ‘q’ or an empty string). \n",
        "* For each string received, use a for loop to create a reversed version of the string. \n",
        "* As you step through the characters in the string, successively build a reversed version by prepending each char to the reversed version of the string (i.e. `revstr = char + revstr`)\n",
        "* Print the reversed string along with an indication as to whether or not it's a palindrome, written the same forwards and backwards, like 'racecar'. * Don't worry about dealing with upper/lower case issues. You can assume all input is lower case. \n",
        "* Also don't worry about doing anything special with whitespace characters (assume \"race car\" is not a palindrome).\n",
        "```\n",
        "Enter a string: hello world\n",
        "dlrow olleh - is NOT a palindrome\n",
        "Enter a string: redivider\n",
        "redivider - is a palindrome!\n",
        "```"
      ]
    },
    {
      "cell_type": "code",
      "metadata": {
        "id": "JlwppEcELM0D",
        "colab_type": "code",
        "colab": {}
      },
      "source": [
        "# Add your code here"
      ],
      "execution_count": null,
      "outputs": []
    },
    {
      "cell_type": "code",
      "metadata": {
        "id": "x2guzSQMLISx",
        "colab_type": "code",
        "cellView": "form",
        "colab": {}
      },
      "source": [
        "#@title Double click here to reveal solution\n",
        "\n",
        "Coming soon."
      ],
      "execution_count": null,
      "outputs": []
    },
    {
      "cell_type": "markdown",
      "metadata": {
        "id": "cbgC8XuVMZiQ",
        "colab_type": "text"
      },
      "source": [
        "# Just For Fun - Some Palindromes"
      ]
    },
    {
      "cell_type": "markdown",
      "metadata": {
        "id": "jp1H1KEOdQZh",
        "colab_type": "text"
      },
      "source": [
        "Character-wise\n",
        "* A man, a plan, a canal, Panama!\n",
        "* I prefer pi\n",
        "* Dammit, I'm mad!\n",
        "* Ma is as selfless as I am\n",
        "* Never odd or even\n",
        "* Madam, I'm Adam\n",
        "\n",
        "Word-wise\n",
        "* King, are you glad you are king?\n",
        "* Says Mom, \"What do you do?\" – You do what Mom says.\n",
        "* You know, I did little for you, for little did I know you.\n",
        "* Please me by standing by me please.\n",
        "* Blessed are they that believe they are blessed.\n",
        "* Escher, drawing hands, drew hands drawing Escher."
      ]
    }
  ]
}