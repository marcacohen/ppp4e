{
  "nbformat": 4,
  "nbformat_minor": 0,
  "metadata": {
    "colab": {
      "name": "PPP4E, Lesson 1 - https://mco.fyi/py1",
      "provenance": [],
      "collapsed_sections": [
        "7B_-CpRRW4Zd",
        "XTLsGI6wEdmL",
        "DlHDxghFuFEx",
        "PKrwEhGeo2Ap",
        "vCmjSFW50CTR",
        "YneZRsm9r3K3",
        "UDr1Uj95_poA",
        "Sih1KLLUoZX5",
        "UfQBeYPMt5t2",
        "mTqfWHqLusVk",
        "tCalZ3y6wK1C",
        "DCi5TWWtAauM",
        "kav1ROXtwu8S",
        "Cy6lsdXbBhPa",
        "nQYFsqGD0jai",
        "z5jg7NLX7e-Z",
        "fB58nZFa_Z7g",
        "psai2VCRwOYO",
        "_S_lir6G591n",
        "Xe3Hkuvs7FXW",
        "xZEAC_jpxJBc",
        "1g3c_ci26iXh",
        "O0fBxynG9PjI",
        "nZ4sLkasxbtl",
        "U6_Uyn6o_h18",
        "RnJurLxLB_f0",
        "NSgINTKQ_CYt",
        "VCrIV-u_8lLa",
        "SyQZmOBvDfHJ",
        "Dd1FNOpnK0-D",
        "So9vQ1trLJLX",
        "1jH-_bNlLcHc",
        "9LYTJHnh0mPe"
      ],
      "authorship_tag": "ABX9TyNUMLOoaBH+U8+J+UI3A+fg",
      "include_colab_link": true
    },
    "kernelspec": {
      "name": "python3",
      "display_name": "Python 3"
    }
  },
  "cells": [
    {
      "cell_type": "markdown",
      "metadata": {
        "id": "view-in-github",
        "colab_type": "text"
      },
      "source": [
        "<a href=\"https://colab.research.google.com/github/marcacohen/ppp4e/blob/master/lesson1.ipynb\" target=\"_parent\"><img src=\"https://colab.research.google.com/assets/colab-badge.svg\" alt=\"Open In Colab\"/></a>"
      ]
    },
    {
      "cell_type": "markdown",
      "metadata": {
        "id": "7B_-CpRRW4Zd",
        "colab_type": "text"
      },
      "source": [
        "# Practical Python Programming for Everyone (PPP4E)\n",
        "\n",
        "**Lesson 1, Python Basics**\n",
        "\n",
        "Link to this notebook: [mco.fyi/py1](https://mco.fyi/py1)\n",
        "\n",
        "**You can make a copy of this notebook by selecting File->Save a copy in Drive from the menu bar above.**"
      ]
    },
    {
      "cell_type": "markdown",
      "metadata": {
        "id": "XTLsGI6wEdmL",
        "colab_type": "text"
      },
      "source": [
        "## Course Theme\n",
        "\n",
        "* **Practical** - We will focus on doing useful things with Python.\n",
        "* **Python** - We will focus on one language only (Python).\n",
        "* **Programming** - We will learn some ideas and concepts that apply to programming in any language.\n",
        "* **for Everyone** - There are no prerequisites - we'll start at the beginning and take one step at a time."
      ]
    },
    {
      "cell_type": "markdown",
      "metadata": {
        "id": "DlHDxghFuFEx",
        "colab_type": "text"
      },
      "source": [
        "## Instructor\n",
        "\n",
        "I'm [Marc](https://mco.dev/about-marc). I love teaching, programming, and teaching programming. :)\n",
        "\n",
        "* My email address is marc@mco.dev. Feel free to reach out if I can help with anything.\n",
        "* I'm [@marcacohen](https://twitter.com/marcacohen) on twitter.\n",
        "* My blog can be found at [mco.dev](https://mco.dev)\n",
        "\n"
      ]
    },
    {
      "cell_type": "markdown",
      "metadata": {
        "id": "PKrwEhGeo2Ap",
        "colab_type": "text"
      },
      "source": [
        "## Logistics\n",
        "\n",
        "\n",
        "* Let's quickly introduce ourselves...\n",
        "* One 90-minute meeting (first class is two hours) per week for eight weeks, August 12 through September 30, 2020.\n",
        "* Let's never go more than 50 mins without a break. Remind me if I forget!\n",
        "* Classes are held via videoconference @ [mco.fyi/meet](https://mco.fyi/meet) on Wednesday evenings, 7-8:30pm BST.\n",
        "* **Please mark your attendance at each session via [mco.fyi/attend](https://mco.fyi/attend)**.\n",
        "* You are looking at a Colab (aka Jupyter) notebook. We'll use these for many purposes: lecture notes, exercises, homework, etc. I'll share a new notebook for each lesson.\n",
        "* Later on, we'll see how to setup your own Python environment locally, but don't worry about that for now.\n",
        "* I'll record each class so you can review the video at any time.\n",
        "* We'll communicate with each other via the class email list: ppp4e@googlegroups.com. Feel free to use this forum for asking questions.\n",
        "* If you'd like to speak with me privately, feel free to email me at marc@mco.dev.\n",
        "* Please mute your mic when not talking but feel free to unmute at any time to ask a question.\n",
        "* If you're comfortable sharing your video feed that's great but it's definitely not required.\n",
        "* I'm happy to meet outside of class if you are stuck or need a little extra help. Just email me.\n",
        "* This is a brand new course. Bear with me if there are a few rough edges but please do share any feedback about how I can improve anything.\n",
        "\n"
      ]
    },
    {
      "cell_type": "markdown",
      "metadata": {
        "id": "vCmjSFW50CTR",
        "colab_type": "text"
      },
      "source": [
        "## Textbook\n",
        "\n",
        "[Automate the Boring Stuff with Python](http://automatetheboringstuff.com/)\n",
        "\n",
        "Great fit for our course:\n",
        "* well written\n",
        "* free to read online\n",
        "* perfect for beginners\n",
        "* focusses on practical applications\n",
        "* if you buy it, make sure you get the 2nd edition\n",
        "\n",
        "<br>\n",
        "\n",
        "<img height=\"350\" src=\"https://mco.dev/img/automate.png\">"
      ]
    },
    {
      "cell_type": "markdown",
      "metadata": {
        "id": "YneZRsm9r3K3",
        "colab_type": "text"
      },
      "source": [
        "## Learning to Code\n",
        "\n",
        "* Programming is a creative activity.\n",
        "* There has never been a better time in history to learn to code.\n",
        "* Anyone can learn to program, as long as you’re willing to do the work.\n",
        "* Practice between classes is very important.\n",
        "* Give yourself time & kindness.\n",
        "* Mistakes are feedback.\n",
        "* When you get stuck:\n",
        "  * Don’t beat yourself up.\n",
        "  * Take a break.\n",
        "  * Don’t be afraid to ask me or a peer for help.\n",
        "* The dirty secret about professional programmers: *We all use Google, all the time.*"
      ]
    },
    {
      "cell_type": "markdown",
      "metadata": {
        "id": "UDr1Uj95_poA",
        "colab_type": "text"
      },
      "source": [
        "# Background"
      ]
    },
    {
      "cell_type": "markdown",
      "metadata": {
        "id": "Sih1KLLUoZX5",
        "colab_type": "text"
      },
      "source": [
        "## The March of Progress\n",
        "\n",
        "> The cell phone in your pocket has more computing power than all of NASA back in 1969.\n",
        "\n",
        "They used it to put two astronauts on the moon. We use it to play Candy Crush. :) Learning to program gives you the power to build amazing things with your computer."
      ]
    },
    {
      "cell_type": "markdown",
      "metadata": {
        "id": "UfQBeYPMt5t2",
        "colab_type": "text"
      },
      "source": [
        "## What is an algorithm?\n",
        "\n",
        "A step-by-step procedure for solving a problem or accomplishing some end, especially by a computer\n",
        "\n",
        "Example Algorithm: Marc’s Scrambled Eggs Recipe\n",
        "\n",
        "**Ingredients:**\n",
        "* 2 eggs\n",
        "* butter\n",
        "\n",
        "**Cooking steps:**\n",
        "  * mix eggs in a bowl\n",
        "  * lightly coat a frying pan with gasoline\n",
        "  * heat pan to 4000 degrees\n",
        "  * stir eggs until solid\n",
        "  * pour mixed eggs into frying pan\n",
        "\n",
        "Just like programs, recipes can have errors, or \"bugs\". Can you find three bugs in this recipe?"
      ]
    },
    {
      "cell_type": "markdown",
      "metadata": {
        "id": "mTqfWHqLusVk",
        "colab_type": "text"
      },
      "source": [
        "## What is a program?\n",
        "\n",
        "* Encoding of an algorithm, in some particular programming language.\n",
        "* In other words, a set of instructions, which tell a computer how to do something. \n",
        "* Programming statements are called “source code” or just “code”.\n",
        "* \"Coding\" is just another word for programming.\n"
      ]
    },
    {
      "cell_type": "markdown",
      "metadata": {
        "id": "tCalZ3y6wK1C",
        "colab_type": "text"
      },
      "source": [
        "## What is a programming language?\n",
        "\n",
        "* A set of rules for expressing algorithms symbolically.\n",
        "* Provides an abstraction layer for using your computer to solve a problem.\n",
        "* Provides a way to reuse other peoples’ work.\n"
      ]
    },
    {
      "cell_type": "markdown",
      "metadata": {
        "id": "E5WXhA_CwS--",
        "colab_type": "text"
      },
      "source": [
        "## What is Python and why learn it?\n",
        "\n",
        "* a programming language that was invented in 1989 by Dutch programmer Guido van Rossum\n",
        "* powerful and expressive\n",
        "* easy to learn\n",
        "* highly readable\n",
        "* freely available open source\n",
        "* widely used & well supported\n",
        "* Very strong for:\n",
        "  * Data Science\n",
        "  * Statistics\n",
        "  * Machine Learning\n",
        "  * Social Sciences\n",
        "  * Web development\n",
        "  * Scientific and numerical computing\n",
        "  * Education\n",
        "* not a bad thing to have on your resume/CV\n",
        "\n",
        "\n",
        "[Python is eating the world: How one developer's side project became the hottest programming language on the planet](https://www.techrepublic.com/article/python-is-eating-the-world-how-one-developers-side-project-became-the-hottest-programming-language-on-the-planet/)"
      ]
    },
    {
      "cell_type": "markdown",
      "metadata": {
        "id": "aw7zobTeK7To",
        "colab_type": "text"
      },
      "source": [
        "Here's a snapshot of the popularity of Python as of June 2020:\n",
        "\n",
        "![alt text](https://redmonk.com/sogrady/files/2020/07/lang-rank-q320-wm.png)\n",
        "\n",
        "[Source: RedMonk Programming Language Rankings: June 2020](https://redmonk.com/sogrady/2020/07/27/language-rankings-6-20/?utm_source=rss&utm_medium=rss&utm_campaign=language-rankings-6-20)"
      ]
    },
    {
      "cell_type": "markdown",
      "metadata": {
        "id": "qpcayWdYK_VY",
        "colab_type": "text"
      },
      "source": [
        "And here's a visualization of Python's growth over time:\n",
        "\n",
        "![alt text](https://149351115.v2.pressablecdn.com/wp-content/uploads/2017/09/growth_major_languages-1-1400x1200.png)\n",
        "\n",
        "[Source: The Incredible Growth of Python](https://stackoverflow.blog/2017/09/06/incredible-growth-python/)"
      ]
    },
    {
      "cell_type": "markdown",
      "metadata": {
        "id": "DCi5TWWtAauM",
        "colab_type": "text"
      },
      "source": [
        "## What is a Notebook?\n",
        "\n",
        "* You're looking at one. :) \n",
        "* Notebooks are interactive documents where you can read instructions and try your own code experiments in one unified experience. \n",
        "* The notebooks we're using are called [Jupyter](https://jupyter.org) and the hosting service (the notebook provider) is called [Google Colaboratory](https://colab.research.google.com/) or just \"Colab\". This service makes it easy to use and share Python notebooks for free, much like Google Docs.\n",
        "* Homework for next week: watch this [short video](https://www.youtube.com/watch?v=inN8seMm7UI) and take a [quick tour of Colab](https://colab.research.google.com/notebooks/intro.ipynb)."
      ]
    },
    {
      "cell_type": "markdown",
      "metadata": {
        "id": "kav1ROXtwu8S",
        "colab_type": "text"
      },
      "source": [
        "# Your first Python program"
      ]
    },
    {
      "cell_type": "code",
      "metadata": {
        "id": "OlRR3jJYwyWG",
        "colab_type": "code",
        "colab": {}
      },
      "source": [
        "print('Hello world!')"
      ],
      "execution_count": null,
      "outputs": []
    },
    {
      "cell_type": "markdown",
      "metadata": {
        "id": "uflA0dHY9EEv",
        "colab_type": "text"
      },
      "source": [
        "Just for context, here's how I wrote that program in 1982:\n",
        "\n",
        "```\n",
        "HELLO    CSECT               The name of this program is 'HELLO'\n",
        " *                            Register 15 points here on entry from OPSYS or caller.\n",
        "          STM   14,12,12(13)  Save registers 14,15, and 0 thru 12 in caller's Save area\n",
        "          LR    12,15         Set up base register with program's entry point address\n",
        "          USING HELLO,12      Tell assembler which register we are using for pgm. base\n",
        "          LA    15,SAVE       Now Point at our own save area\n",
        "          ST    15,8(13)      Set forward chain\n",
        "          ST    13,4(15)      Set back chain               \n",
        "          LR    13,15         Set R13 to address of new save area\n",
        " *                            -end of housekeeping (similar for most programs) -\n",
        "          WTO   'Hello World' Write To Operator  (Operating System macro)\n",
        " *\n",
        "          L     13,4(13)      restore address to caller-provided save area\n",
        "          XC    8(4,13),8(13) Clear forward chain\n",
        "          LM    14,12,12(13)  Restore registers as on entry\n",
        "          DROP  12            The opposite of 'USING'\n",
        "          SR    15,15         Set register 15 to 0 so that the return code (R15) is Zero\n",
        "          BR    14            Return to caller\n",
        " *           \n",
        " SAVE     DS    18F           Define 18 fullwords to save calling program registers \n",
        "          END  HELLO          This is the end of the program\n",
        "\n",
        "```\n",
        "\n",
        "Now you see why I love Python. :)\n"
      ]
    },
    {
      "cell_type": "markdown",
      "metadata": {
        "id": "_eVC6h9bSzyS",
        "colab_type": "text"
      },
      "source": [
        "The `print` function provides a mechanism to generate output from a Python program. Another useful function to know about is the `input` function. It's sort of the opposite of `print`, because it gathers input into your program. Here's an example:"
      ]
    },
    {
      "cell_type": "code",
      "metadata": {
        "id": "GRWGDwk69wB8",
        "colab_type": "code",
        "colab": {}
      },
      "source": [
        "print('Enter your name: ')\n",
        "name = input()\n",
        "print('Hello', name + '!')"
      ],
      "execution_count": null,
      "outputs": []
    },
    {
      "cell_type": "markdown",
      "metadata": {
        "id": "eJLSQKTE936x",
        "colab_type": "text"
      },
      "source": [
        "Printing a prompt before gathering input is such a common pattern that you can combine them into one function call, like this:"
      ]
    },
    {
      "cell_type": "code",
      "metadata": {
        "id": "jmhNcr7S-Fu2",
        "colab_type": "code",
        "colab": {}
      },
      "source": [
        "name = input('Enter your name: ')\n",
        "print('Hello', name + '!')\n"
      ],
      "execution_count": null,
      "outputs": []
    },
    {
      "cell_type": "markdown",
      "metadata": {
        "id": "hgKCdaBTxJg3",
        "colab_type": "text"
      },
      "source": [
        "🎉 Congratulations - you are now a Python programmer! 🎉\n",
        "\n",
        "![alt text](https://memegenerator.net/img/instances/59258413.jpg)"
      ]
    },
    {
      "cell_type": "markdown",
      "metadata": {
        "id": "Cy6lsdXbBhPa",
        "colab_type": "text"
      },
      "source": [
        "# Expressions"
      ]
    },
    {
      "cell_type": "markdown",
      "metadata": {
        "id": "91uW3_W4BlLw",
        "colab_type": "text"
      },
      "source": [
        "Expressions are sequences of values and operators, like `2 + 2`. In fact, let's make sure that's a valid expression by running the next cell..."
      ]
    },
    {
      "cell_type": "code",
      "metadata": {
        "id": "LefvPtaCB2cb",
        "colab_type": "code",
        "colab": {}
      },
      "source": [
        "2 + 2"
      ],
      "execution_count": null,
      "outputs": []
    },
    {
      "cell_type": "markdown",
      "metadata": {
        "id": "3_hAAdmSB5AZ",
        "colab_type": "text"
      },
      "source": [
        "Here's a slightly more complex expression to convert the temperature in New York today (78F) from Fahrenheit to celsius..."
      ]
    },
    {
      "cell_type": "code",
      "metadata": {
        "id": "S8km0btJB9Pk",
        "colab_type": "code",
        "colab": {}
      },
      "source": [
        " (212 - 32) * 5/9"
      ],
      "execution_count": null,
      "outputs": []
    },
    {
      "cell_type": "markdown",
      "metadata": {
        "id": "F0as3X9oCvJa",
        "colab_type": "text"
      },
      "source": [
        "Let's combine `input`, `print`, and expressions to build a temperature conversion program..."
      ]
    },
    {
      "cell_type": "code",
      "metadata": {
        "id": "DVdOM1myC_hD",
        "colab_type": "code",
        "colab": {}
      },
      "source": [
        "degrees_f = input('Enter number of degrees in fahrenheit: ')\n",
        "print(degrees_f)\n",
        "degrees_c = round((int(degrees_f) - 32) * 5/9)\n",
        "print(degrees_c)\n",
        "print(f'{degrees_f}°F = {degrees_c}°C')"
      ],
      "execution_count": null,
      "outputs": []
    },
    {
      "cell_type": "code",
      "metadata": {
        "id": "FDxc8y9BNnP-",
        "colab_type": "code",
        "colab": {}
      },
      "source": [
        "degrees_c = input('Enter number of degrees celsius: ')\n",
        "print(degrees_c)\n",
        "degrees_f = round((int(degrees_c) * 9/5) + 32)\n",
        "print(degrees_f)\n",
        "print(f'{degrees_c}°C= {degrees_f}°F')"
      ],
      "execution_count": null,
      "outputs": []
    },
    {
      "cell_type": "markdown",
      "metadata": {
        "id": "nQYFsqGD0jai",
        "colab_type": "text"
      },
      "source": [
        "# Errors - when bad things happen to good programs"
      ]
    },
    {
      "cell_type": "code",
      "metadata": {
        "id": "R632G9zF0oL-",
        "colab_type": "code",
        "colab": {}
      },
      "source": [
        "'42' + '1'"
      ],
      "execution_count": null,
      "outputs": []
    },
    {
      "cell_type": "markdown",
      "metadata": {
        "id": "z5jg7NLX7e-Z",
        "colab_type": "text"
      },
      "source": [
        "### Three kinds of errors\n",
        "\n",
        "* **syntax errors**: invalid Python\n",
        "```\n",
        "    print'Hello from Python')\n",
        "```\n",
        "\n",
        "* **runtime errors**: legal code tries to do something illegal\n",
        "```\n",
        "    primt('Hello from Python')\n",
        "```\n",
        "* **logic errors**: code is legal and runs fine but it does the wrong thing\n",
        "```\n",
        "    age = birth_year - current_year \n",
        "```\n"
      ]
    },
    {
      "cell_type": "markdown",
      "metadata": {
        "id": "fB58nZFa_Z7g",
        "colab_type": "text"
      },
      "source": [
        "# Comments"
      ]
    },
    {
      "cell_type": "markdown",
      "metadata": {
        "id": "G0NcIzexBH1U",
        "colab_type": "text"
      },
      "source": [
        "* `#` marks the rest of the line as a \"comment\"\n",
        "* Ignored by Python\n",
        "* useful for documenting your code\n",
        "* blank lines are also fine and sometimes improve readability\n",
        "\n",
        "Example:\n"
      ]
    },
    {
      "cell_type": "code",
      "metadata": {
        "id": "i3n8wRxRADau",
        "colab_type": "code",
        "colab": {}
      },
      "source": [
        "# Python ignores this line.\n",
        "# print('this line does not print anything when commented out')\n",
        "# The following blank lines are ignored as well...\n",
        "\n",
        "print('hi') # this is a comment\n",
        "\n",
        "\n",
        "# I can have as many comments and blank lines as I like in a program.\n",
        "# They are for the benefit of me and \"future me\"."
      ],
      "execution_count": null,
      "outputs": []
    },
    {
      "cell_type": "markdown",
      "metadata": {
        "id": "qXasPZ2uAmy5",
        "colab_type": "text"
      },
      "source": [
        "Try removing the `#` preceding the `print` function call in the previous cell. We call this \"uncommenting\" a line of code.\n",
        "\n",
        "Now put the `#` back in place. We call this \"commenting out\" a line of code. Often we'll do this to temporarily disable some code from running, where we want to keep the code in place for possible future use."
      ]
    },
    {
      "cell_type": "markdown",
      "metadata": {
        "id": "psai2VCRwOYO",
        "colab_type": "text"
      },
      "source": [
        "# What is a function?"
      ]
    },
    {
      "cell_type": "markdown",
      "metadata": {
        "id": "BrGOsTi7xbni",
        "colab_type": "text"
      },
      "source": [
        "* A reusable piece of code that completes a specific task.\n",
        "* We just met two functions - `print` and `input` are functions you used to do input/output (I/O) operations.\n",
        "* We say \"call\" or \"invoke\" a function to request that it do its job.\n",
        "* We do this by writing the function name followed by parentheses (aka brackets).\n",
        "* We may optionally include some values inside the brackets. We call those values function arguments, or just arguments.\n",
        "* We'll often refer to this process as \"passing arguments\" to a function.\n",
        "* I like to think of the function as a work request and the arguments as the job specification.\n",
        "* For example, you can pass arguments to the print function to produce just about any desired output.\n",
        "\n",
        "\n"
      ]
    },
    {
      "cell_type": "code",
      "metadata": {
        "id": "6sck7m4C_0Vl",
        "colab_type": "code",
        "colab": {}
      },
      "source": [
        "print('test')\n",
        "print()\n",
        "print('this', 'is', 'a', 'test')"
      ],
      "execution_count": null,
      "outputs": []
    },
    {
      "cell_type": "markdown",
      "metadata": {
        "id": "_S_lir6G591n",
        "colab_type": "text"
      },
      "source": [
        "## More about print\n",
        "\n",
        "A print function call with no arguments simply prints a blank line:"
      ]
    },
    {
      "cell_type": "code",
      "metadata": {
        "id": "Z9kYd9hjxtdy",
        "colab_type": "code",
        "colab": {}
      },
      "source": [
        "print()"
      ],
      "execution_count": null,
      "outputs": []
    },
    {
      "cell_type": "code",
      "metadata": {
        "id": "C96tEc3jVEXP",
        "colab_type": "code",
        "colab": {}
      },
      "source": [
        "# Now try calling the print function with something else, like your name...\n",
        "print('your name here')"
      ],
      "execution_count": null,
      "outputs": []
    },
    {
      "cell_type": "markdown",
      "metadata": {
        "id": "CxMvPGLp6YlB",
        "colab_type": "text"
      },
      "source": [
        "Functions are the basic building blocks of a Python program. Later we'll see how to define your own functions. We've seen a simple print function call with zero and one argument:"
      ]
    },
    {
      "cell_type": "code",
      "metadata": {
        "id": "mjTg9R3549ra",
        "colab_type": "code",
        "colab": {}
      },
      "source": [
        "print('My name is Marc')"
      ],
      "execution_count": null,
      "outputs": []
    },
    {
      "cell_type": "markdown",
      "metadata": {
        "id": "1rQnxwqg5EUY",
        "colab_type": "text"
      },
      "source": [
        "We can also print a sequence of arguments, where spaces are added between each element in sequence, like this:\n",
        "\n",
        "\n",
        "\n"
      ]
    },
    {
      "cell_type": "code",
      "metadata": {
        "id": "RO9Wk6M75HjX",
        "colab_type": "code",
        "colab": {}
      },
      "source": [
        "print('My', 'name', 'is', 'Marc')\n",
        "print('next line')"
      ],
      "execution_count": null,
      "outputs": []
    },
    {
      "cell_type": "markdown",
      "metadata": {
        "id": "lQ_A3sFG5Sr5",
        "colab_type": "text"
      },
      "source": [
        "By default, we get a newline character at the end of a print request but we can override that behavior using the `end` argument:"
      ]
    },
    {
      "cell_type": "code",
      "metadata": {
        "id": "7n9-atmY5jRl",
        "colab_type": "code",
        "colab": {}
      },
      "source": [
        "print('My name is Marc')\n",
        "print('next line')\n",
        "\n",
        "print('My name is Marc', end='\\n')\n",
        "print('next line')"
      ],
      "execution_count": null,
      "outputs": []
    },
    {
      "cell_type": "markdown",
      "metadata": {
        "id": "ebCk4eGy6oDl",
        "colab_type": "text"
      },
      "source": [
        "We can also change the separator string, using the `sep` argument, like this:\n"
      ]
    },
    {
      "cell_type": "code",
      "metadata": {
        "id": "ZC8t1UWX6rjJ",
        "colab_type": "code",
        "colab": {
          "base_uri": "https://localhost:8080/",
          "height": 84
        },
        "outputId": "580fa76d-7cb4-4b40-8b5a-d694db20782f"
      },
      "source": [
        "print('My', 'name', 'is', 'Marc', sep='\\n')"
      ],
      "execution_count": null,
      "outputs": [
        {
          "output_type": "stream",
          "text": [
            "My\n",
            "name\n",
            "is\n",
            "Marc\n"
          ],
          "name": "stdout"
        }
      ]
    },
    {
      "cell_type": "markdown",
      "metadata": {
        "id": "43FBtrZ660wD",
        "colab_type": "text"
      },
      "source": [
        "We could even use a null (empty) separator:\n"
      ]
    },
    {
      "cell_type": "code",
      "metadata": {
        "id": "i9Pc3UE_67Ca",
        "colab_type": "code",
        "colab": {}
      },
      "source": [
        "print('My', 'name', 'is', 'Marc', sep='', end='')\n",
        "print('hi')"
      ],
      "execution_count": null,
      "outputs": []
    },
    {
      "cell_type": "markdown",
      "metadata": {
        "id": "Xe3Hkuvs7FXW",
        "colab_type": "text"
      },
      "source": [
        "## Challenges\n",
        "\n",
        "* Change the output message to anything you want.\n",
        "* Repeat the code on multiple lines to output several messages.\n",
        "* See what happens when you remove different parts of the code (e.g. brackets, commas, etc.)."
      ]
    },
    {
      "cell_type": "markdown",
      "metadata": {
        "id": "xZEAC_jpxJBc",
        "colab_type": "text"
      },
      "source": [
        "# Numbers"
      ]
    },
    {
      "cell_type": "markdown",
      "metadata": {
        "id": "1g3c_ci26iXh",
        "colab_type": "text"
      },
      "source": [
        "## Numeric Types\n",
        "\n",
        "Python supports two main types of numbers\n",
        "* int, arbitrary size signed integers, like these:\n",
        "  * `2011`\n",
        "  * `-999999999999`\n",
        "* float, arbitrary precision floating point numbers, like these:\n",
        "  * `3.14159`\n",
        "  * `3.8 * 10**6`\n",
        "\n",
        "For the most part, you don't need to worry about which type of number to use - Python will take care of that for you. The decimal point tells Python which to use.\n",
        "\n",
        "Mixing floats and ints results in a float so, for example, `2011 * 3.14` results in a floating point number.\n",
        "\n",
        "Try entering these expressions in the following cell:\n",
        "\n",
        "```\n",
        "print(5 - 6)  \n",
        "print(8 * 9)\n",
        "print(6 / 2)  \n",
        "print(5 / 0)  \n",
        "print(5.0 / 2)\n",
        "print(5 % 2)  \n",
        "print(2 * 10 + 3)  \n",
        "print(2 * (10 + 3))  \n",
        "print(2 ** 4)\n",
        "```\n",
        "Were there any outputs you didn't expect?\n"
      ]
    },
    {
      "cell_type": "code",
      "metadata": {
        "id": "noB_zISw8_Vz",
        "colab_type": "code",
        "colab": {
          "base_uri": "https://localhost:8080/",
          "height": 168
        },
        "outputId": "51916bd0-f4b1-4865-c753-25abd4ba838a"
      },
      "source": [
        "print(5 - 6) \n",
        "print(8 * 9)\n",
        "print(6 / 2)\n",
        "print(5 / 2)  \n",
        "print(5.0 / 2)\n",
        "print(5 % 2)  \n",
        "print(2 * 10 + 3)  \n",
        "print(2 * (10 + 3))  \n",
        "print(2 ** 4)"
      ],
      "execution_count": null,
      "outputs": [
        {
          "output_type": "stream",
          "text": [
            "-1\n",
            "72\n",
            "3.0\n",
            "2.5\n",
            "2.5\n",
            "1\n",
            "23\n",
            "26\n",
            "16\n"
          ],
          "name": "stdout"
        }
      ]
    },
    {
      "cell_type": "markdown",
      "metadata": {
        "id": "O0fBxynG9PjI",
        "colab_type": "text"
      },
      "source": [
        "## Numerical/Arithmetic Operators\n",
        "\n",
        "| operator | operation on numbers | operation on strings |\n",
        "|----------|----------------------|---------------------|\n",
        "+|addition|concatenation\n",
        "-|subtraction|undefined\n",
        "*|multiplication|repetition\n",
        "//|integer division|undefined\n",
        "/|real division|undefined\n",
        "%|modulus (remainder)|undefined\n",
        "**|exponentiation|undefined\n",
        "()|prioritization|prioritization\n"
      ]
    },
    {
      "cell_type": "markdown",
      "metadata": {
        "id": "afAWHnWGxReQ",
        "colab_type": "text"
      },
      "source": [
        "# Strings"
      ]
    },
    {
      "cell_type": "markdown",
      "metadata": {
        "id": "ZiSHYYkp8_Ss",
        "colab_type": "text"
      },
      "source": [
        "## Rules of the Road\n",
        "\n",
        "* a character string (or just string) is a sequence of characters surrounded by quotes\n",
        "* strings give you the ability to operate on a sequence of characters as a basic unit\n",
        "* strings are an example of a general category of data types called sequences, which we'll see more of later\n",
        "* you can use single or double quotes to delineate strings but you must be consistent within a string\n",
        "* `\"this works\"` and `'this works'` too\n",
        "* `\"this is not ok'`, `'nor is this\"`"
      ]
    },
    {
      "cell_type": "markdown",
      "metadata": {
        "id": "nZ4sLkasxbtl",
        "colab_type": "text"
      },
      "source": [
        "## Embedded Quotes\n",
        "\n",
        "How to embed a single or double quote inside a string?\n",
        "\n",
        "You can embed a single quote in a double quoted string:\n",
        "\n",
        "```\n",
        "\"this string's fine\"\n",
        "'but this doesn't work'\n",
        "```\n",
        "You can embed a double quote in a single quoted string:\n",
        "\n",
        "```\n",
        "'but this string is \"A-OK\"'\n",
        "\"but this \"example\" fails\"\n",
        "```\n",
        "\n",
        "You can also \"escape\" a single or double quote with the backslash character:\n",
        "\n",
        "```\n",
        "'Marc\\'s string'\n",
        "\"I like \\\"The Office\\\"\"\n",
        "```"
      ]
    },
    {
      "cell_type": "markdown",
      "metadata": {
        "id": "eE7cGSJ4xjen",
        "colab_type": "text"
      },
      "source": [
        "## Escape Sequences\n",
        "\n",
        "These are useful for embedding special characters in a string.\n",
        "\n",
        "|character|escape sequence|\n",
        "|---------|---------------|\n",
        "|tab|\\t|\n",
        "|newline|\\n|\n",
        "|single quote|\\\\'|\n",
        "|double quote|\\\\\"|\n",
        "|backslash|\\\\\\\\|\n",
        "\n",
        "Examples are shown in the next cell..."
      ]
    },
    {
      "cell_type": "code",
      "metadata": {
        "id": "VoJV0fIVBUk6",
        "colab_type": "code",
        "colab": {}
      },
      "source": [
        "# escape sequence examples\n",
        "\n",
        "print(\"Quoth the raven: \\\"nevermore\\\".\")\n",
        "print('My country \\'tis of thee')\n",
        "print('line1\\nline2\\nline3')\n",
        "print(\"field1\\tfield2\\tfield3\")\n",
        "print('c:\\\\directory\\\\file')\n",
        "print('several escape sequences:\\n1/1\\t1/2\\n2/1\\t2/2')"
      ],
      "execution_count": null,
      "outputs": []
    },
    {
      "cell_type": "markdown",
      "metadata": {
        "id": "d3OG7VgfBbad",
        "colab_type": "text"
      },
      "source": [
        "## Triple Quoted Strings\n",
        "Sometimes you want to define a long string, that spans multiple lines, or a string containing embedded single and/or double quotes and don't want to use a lot of escape characters. Triple quoted strings are perfect for this job:\n"
      ]
    },
    {
      "cell_type": "code",
      "metadata": {
        "id": "kTb8D79_-9ab",
        "colab_type": "code",
        "colab": {}
      },
      "source": [
        "\"\"\"\n",
        "    This is a triple quoted string.\n",
        "    It goes on for multiple lines.\n",
        "    It contains things like ' and \",\n",
        "    which would normally have to be escaped,\n",
        "    but anything goes in a triple quoted string.\n",
        "\"\"\"\n",
        "print(longstr)"
      ],
      "execution_count": null,
      "outputs": []
    },
    {
      "cell_type": "markdown",
      "metadata": {
        "id": "U6_Uyn6o_h18",
        "colab_type": "text"
      },
      "source": [
        "### Challenge\n",
        "\n",
        "For each of the following examples tell me if it’s a legal Python string... \n",
        "1. `'Go ahead, make my day.'`\n",
        "1. `\"There's no place like home.\"`\n",
        "1. `'Frankly my dear, I don't give a damn'`\n",
        "1. `'Say \"hello\" to my little friend'`\n",
        "1. `\"You\\'re gonna need a bigger boat\"`\n",
        "1. `'\"You talkin' to me?\"'`\n",
        "1. `'Fasten your seatbelts, it\\'s going to be a bumpy night'`\n",
        "1. `'''Striker: \"Surely you can't be serious!\" Rumack: \"I am serious... and don't call me Shirley\".'''`\n",
        "1. `\"You had me at \"hello\".\"`"
      ]
    },
    {
      "cell_type": "markdown",
      "metadata": {
        "id": "3bfkPbusByKw",
        "colab_type": "text"
      },
      "source": [
        "## String Operators\n",
        "\n",
        "`+` and `*` can be used to operate on strings.\n",
        "\n",
        "Try the code in the cell below. One of these raises an error. What do you think the error message means?\n"
      ]
    },
    {
      "cell_type": "code",
      "metadata": {
        "id": "WZ8aMDPRB9MR",
        "colab_type": "code",
        "colab": {}
      },
      "source": [
        "print(\"Cat\")\n",
        "print(\"Cat\" + \"videos\")\n",
        "print(\"Clyro \" * 3)\n",
        "print(\"Cat\" + 3)"
      ],
      "execution_count": null,
      "outputs": []
    },
    {
      "cell_type": "code",
      "metadata": {
        "id": "SSz69zY2ZDud",
        "colab_type": "code",
        "colab": {
          "base_uri": "https://localhost:8080/",
          "height": 101
        },
        "outputId": "b0be9306-994e-46dc-d6d3-86685a60abe3"
      },
      "source": [
        "# To notice:  33 (the integer) is different from \"33\" (the string)\n",
        "\n",
        "print(33 + 33)\n",
        "print(type(33+33))\n",
        "print()\n",
        "print(\"33\" + \"33\")\n",
        "print(type(\"33\" + \"33\"))"
      ],
      "execution_count": null,
      "outputs": [
        {
          "output_type": "stream",
          "text": [
            "66\n",
            "<class 'int'>\n",
            "\n",
            "3333\n",
            "<class 'str'>\n"
          ],
          "name": "stdout"
        }
      ]
    },
    {
      "cell_type": "markdown",
      "metadata": {
        "id": "Ih6MKmdyDBhq",
        "colab_type": "text"
      },
      "source": [
        "### Converting to a string\n",
        "\n",
        "You can use the `str()` function to convert a numeric type into a string, like this:"
      ]
    },
    {
      "cell_type": "code",
      "metadata": {
        "id": "ea8N8OfeYlG8",
        "colab_type": "code",
        "colab": {}
      },
      "source": [
        "print(\"cat\" + \"3\")\n",
        "print(\"Cat\" + str(3))"
      ],
      "execution_count": null,
      "outputs": []
    },
    {
      "cell_type": "markdown",
      "metadata": {
        "id": "RnJurLxLB_f0",
        "colab_type": "text"
      },
      "source": [
        "## String Methods\n",
        "\n",
        "* Method: A repeatable piece of code that completes a task for a specific data-type.\n",
        "\n",
        "* We invoke a method using the `.` syntax, e.g. `mystr.upper()`.\n",
        "\n",
        "* Methods are specific to a data-type\n",
        "e.g. `.upper()` can be used with a string but not an integer or a float\n"
      ]
    },
    {
      "cell_type": "code",
      "metadata": {
        "id": "7uVkKkGzCE94",
        "colab_type": "code",
        "colab": {
          "base_uri": "https://localhost:8080/",
          "height": 84
        },
        "outputId": "663dfeed-3496-4929-e4bf-8ed694cbb371"
      },
      "source": [
        "print(\"Cat\".upper())\n",
        "print(\"Cat\".lower())\n",
        "print(\"the lord of the rings\".title())\n",
        "name = 'romi sobecka'.title()\n",
        "print(name)"
      ],
      "execution_count": null,
      "outputs": [
        {
          "output_type": "stream",
          "text": [
            "CAT\n",
            "cat\n",
            "The Lord Of The Rings\n",
            "Romi Sobecka\n"
          ],
          "name": "stdout"
        }
      ]
    },
    {
      "cell_type": "markdown",
      "metadata": {
        "id": "FAsOgYuWA8R3",
        "colab_type": "text"
      },
      "source": [
        "# Variables"
      ]
    },
    {
      "cell_type": "markdown",
      "metadata": {
        "id": "HiLgf5coGVZJ",
        "colab_type": "text"
      },
      "source": [
        "Variables are names - a reusable label for a data value\n",
        "\n"
      ]
    },
    {
      "cell_type": "code",
      "metadata": {
        "id": "ZwVDSRQmGeeb",
        "colab_type": "code",
        "colab": {}
      },
      "source": [
        "name = 'Marc'\n",
        "print(name)\n",
        "name = 3.14\n",
        "print(name)\n",
        "name = 'Benji'\n",
        "print(name)"
      ],
      "execution_count": null,
      "outputs": []
    },
    {
      "cell_type": "markdown",
      "metadata": {
        "id": "mIz2S_4vGnoc",
        "colab_type": "text"
      },
      "source": [
        "## Variable Naming Rules\n",
        "\n",
        "There are some special rules governing variable names:\n",
        "\n",
        "* variable names may start with a letter or an underscore\n",
        "* the rest of the letters in the name may be letters, numbers or underscore\n",
        "case is significant\n",
        "* `name` is different from `NAME`, which is different from `NaMe`\n",
        "\n",
        "## Reserved Words\n",
        "\n",
        "The following words have special meaning in Python. We call them keywords or reserved words and you may not use these names for your variables.\n",
        "\n",
        "> ```and, as, assert, break, class, continue, def, del, elif, else, except, False, finally, for, from, global, if, import, in, is, lambda, nonlocal, None, not, or, pass, raise, return, True, try, while, with, yield```\n",
        "\n",
        "Try using one of these as a variable and see what happens...\n",
        "\n"
      ]
    },
    {
      "cell_type": "code",
      "metadata": {
        "id": "3HHZxMfZHA-8",
        "colab_type": "code",
        "colab": {
          "base_uri": "https://localhost:8080/",
          "height": 129
        },
        "outputId": "2f58ba62-8429-4d22-9a2f-8c08d83a5f89"
      },
      "source": [
        "False = 'Marc'"
      ],
      "execution_count": null,
      "outputs": [
        {
          "output_type": "error",
          "ename": "SyntaxError",
          "evalue": "ignored",
          "traceback": [
            "\u001b[0;36m  File \u001b[0;32m\"<ipython-input-53-8cfa27db7053>\"\u001b[0;36m, line \u001b[0;32m1\u001b[0m\n\u001b[0;31m    False = 'Marc'\u001b[0m\n\u001b[0m                  ^\u001b[0m\n\u001b[0;31mSyntaxError\u001b[0m\u001b[0;31m:\u001b[0m can't assign to keyword\n"
          ]
        }
      ]
    },
    {
      "cell_type": "markdown",
      "metadata": {
        "id": "Koyp75jKHNmt",
        "colab_type": "text"
      },
      "source": [
        "## Challenge\n",
        "\n",
        "Which of the following are legal Python variable names?\n",
        "```\n",
        "average = 1 \n",
        "Max = 1\n",
        "print = 1  \n",
        "LadyGaGa = 1  \n",
        "_Lady_Ga_Ga = 1\n",
        "FiftyYardLine = 1    \n",
        "50_yard_line = 1  \n",
        "yard_line_50 = 1  \n",
        "raise = 1  \n",
        "my-cat-is-awesome = 1\n",
        "my_cat_is_awesome = 1  \n",
        "```"
      ]
    },
    {
      "cell_type": "markdown",
      "metadata": {
        "id": "SpF1BSjwyfw3",
        "colab_type": "text"
      },
      "source": [
        "# Assignment Statements"
      ]
    },
    {
      "cell_type": "markdown",
      "metadata": {
        "id": "h75iNJF-Hrsl",
        "colab_type": "text"
      },
      "source": [
        "Assignment statements are used to associate a variable name with some simple or complex value\n",
        "general form:   \n",
        "\n",
        "    variable_name = 'some_value'\n",
        "\n",
        "If a variable doesn’t already exist, when you assign to it, Python creates it on the fly.\n",
        "\n",
        "If you assign to a variable that already exists, Python replaces its current value with a new value.\n",
        "\n",
        "## Examples\n",
        "\n",
        "    instructor = 'marc'         # string value\n",
        "    instructor = 'my evil twin' # same name, diff string value\n",
        "    instructor = 42             # same name, integer value\n",
        "    todays_high_temp = 71.3     # diff name, floating point value\n",
        "\n",
        "Try some experiments in the next cell..."
      ]
    },
    {
      "cell_type": "code",
      "metadata": {
        "id": "6XkgABMTH8Ti",
        "colab_type": "code",
        "colab": {
          "base_uri": "https://localhost:8080/",
          "height": 118
        },
        "outputId": "d76bceba-2b7b-4e06-abe8-18491ef30feb"
      },
      "source": [
        "a = 0\n",
        "print('a =', a)\n",
        "a = 42\n",
        "print('a =', a)\n",
        "a = 3.14159\n",
        "print('a =', a)\n",
        "a = \"Marc\"\n",
        "print('a =', a)\n",
        "\n",
        "b = 42\n",
        "print('a =', a, 'b =', b)\n",
        "\n",
        "a = b\n",
        "print('a =', a, 'b =', b)"
      ],
      "execution_count": null,
      "outputs": [
        {
          "output_type": "stream",
          "text": [
            "a = 0\n",
            "a = 42\n",
            "a = 3.14159\n",
            "a = Marc\n",
            "a = Marc b = 42\n",
            "a = 42 b = 42\n"
          ],
          "name": "stdout"
        }
      ]
    },
    {
      "cell_type": "markdown",
      "metadata": {
        "id": "5eZ4mlDTIZRw",
        "colab_type": "text"
      },
      "source": [
        "## Usage Example\n",
        "\n",
        "Let's print a list of the first 9 multiples of 9...\n"
      ]
    },
    {
      "cell_type": "code",
      "metadata": {
        "id": "fEq-3ouyIrNZ",
        "colab_type": "code",
        "colab": {
          "base_uri": "https://localhost:8080/",
          "height": 168
        },
        "outputId": "4a1e9cfd-1dfb-49c1-b54e-6d67663d5b5b"
      },
      "source": [
        "# Tedious version...\n",
        "\n",
        "print(1*9)\n",
        "print(2*9)\n",
        "print(3*9)\n",
        "print(4*9)\n",
        "print(5*9)\n",
        "print(6*9)\n",
        "print(7*9)\n",
        "print(8*9)\n",
        "print(9*9)"
      ],
      "execution_count": null,
      "outputs": [
        {
          "output_type": "stream",
          "text": [
            "9\n",
            "18\n",
            "27\n",
            "36\n",
            "45\n",
            "54\n",
            "63\n",
            "72\n",
            "81\n"
          ],
          "name": "stdout"
        }
      ]
    },
    {
      "cell_type": "code",
      "metadata": {
        "id": "V04NwJI0Iuwu",
        "colab_type": "code",
        "colab": {
          "base_uri": "https://localhost:8080/",
          "height": 168
        },
        "outputId": "5ee5c7de-615d-4c64-d2fb-cf5e9538000c"
      },
      "source": [
        "# Nicer version...\n",
        "\n",
        "factor = 8\n",
        "print(1*factor)\n",
        "print(2*factor)\n",
        "print(3*factor)\n",
        "print(4*factor)\n",
        "print(5*factor)\n",
        "print(6*factor)\n",
        "print(7*factor)\n",
        "print(8*factor)\n",
        "print(9*factor)"
      ],
      "execution_count": null,
      "outputs": [
        {
          "output_type": "stream",
          "text": [
            "8\n",
            "16\n",
            "24\n",
            "32\n",
            "40\n",
            "48\n",
            "56\n",
            "64\n",
            "72\n"
          ],
          "name": "stdout"
        }
      ]
    },
    {
      "cell_type": "markdown",
      "metadata": {
        "id": "gOAflNOGZw4i",
        "colab_type": "text"
      },
      "source": [
        "Why is that nicer? Think about changing the requirement to print multiples of eight, instead of nine. How many lines would you have to change in the firat example? How about the second example?\n",
        "\n",
        "The second example uses a redirection via a variable to make the code much easier to update. This is a very powerful and important concept in software engineering."
      ]
    },
    {
      "cell_type": "code",
      "metadata": {
        "id": "JPiHwOQtJHns",
        "colab_type": "code",
        "colab": {
          "base_uri": "https://localhost:8080/",
          "height": 151
        },
        "outputId": "c8cd4537-d496-4866-d1dc-b9716f2835de"
      },
      "source": [
        "# Coming soon...\n",
        "\n",
        "factor = 9\n",
        "for i in range(1, 9):\n",
        "  print(i * factor)"
      ],
      "execution_count": null,
      "outputs": [
        {
          "output_type": "stream",
          "text": [
            "9\n",
            "18\n",
            "27\n",
            "36\n",
            "45\n",
            "54\n",
            "63\n",
            "72\n"
          ],
          "name": "stdout"
        }
      ]
    },
    {
      "cell_type": "markdown",
      "metadata": {
        "id": "HYLN9MdtJY8f",
        "colab_type": "text"
      },
      "source": [
        "## Challenge\n",
        "\n",
        "In the next cell, create a program that calculates how many cans of cat food you need to feed 10 cats. You will need:\n",
        "\n",
        "* A variable for the number of cats\n",
        "* A variable for the number of cans each cat eats in a day\n",
        "* A `print()` function call to output the result\n",
        "\n",
        "Extension: change the calculation to work out the amount needed for 7 days."
      ]
    },
    {
      "cell_type": "code",
      "metadata": {
        "id": "3o4Pvg0Aznad",
        "colab_type": "code",
        "colab": {}
      },
      "source": [
        "# Add your cat food program here."
      ],
      "execution_count": null,
      "outputs": []
    },
    {
      "cell_type": "markdown",
      "metadata": {
        "id": "gI3Ac_xEDmn5",
        "colab_type": "text"
      },
      "source": [
        "# F (format) Strings\n",
        "\n",
        "Python has a special type of string called a format (or 'f') string, which enables you to \"interpolate\" a variable into a string, like this:"
      ]
    },
    {
      "cell_type": "code",
      "metadata": {
        "id": "5IrjaVam0DBu",
        "colab_type": "code",
        "colab": {
          "base_uri": "https://localhost:8080/",
          "height": 34
        },
        "outputId": "6c78c630-298f-4d69-e1cf-190ca61c7169"
      },
      "source": [
        "x = 3.14\n",
        "msg = f'My name is {x}'\n",
        "print(msg)"
      ],
      "execution_count": null,
      "outputs": [
        {
          "output_type": "stream",
          "text": [
            "My name is 3.14\n"
          ],
          "name": "stdout"
        }
      ]
    },
    {
      "cell_type": "code",
      "metadata": {
        "id": "088hUfC7Ebix",
        "colab_type": "code",
        "colab": {}
      },
      "source": [
        "# The hard way to format strings...\n",
        "\n",
        "fruit = 'oranges'\n",
        "quantity = 12\n",
        "unit_cost = 0.50\n",
        "total_cost = unit_cost * quantity\n",
        "output = str(quantity) + ' ' + fruit + ' ' + 'cost £' + str(total_cost)\n",
        "print(output)\n"
      ],
      "execution_count": null,
      "outputs": []
    },
    {
      "cell_type": "code",
      "metadata": {
        "id": "2kkzCGPqEDaF",
        "colab_type": "code",
        "colab": {
          "base_uri": "https://localhost:8080/",
          "height": 34
        },
        "outputId": "367bc912-b93c-4dca-d366-4643577b58e2"
      },
      "source": [
        "# The easy way to format strings...\n",
        "\n",
        "fruit = 'oranges'\n",
        "quantity = 12\n",
        "unit_cost = 0.50\n",
        "total_cost = unit_cost * quantity\n",
        "output = f'{quantity} {fruit} cost £{total_cost:.2f}'\n",
        "print(output)"
      ],
      "execution_count": null,
      "outputs": [
        {
          "output_type": "stream",
          "text": [
            "12 oranges cost £6.00\n"
          ],
          "name": "stdout"
        }
      ]
    },
    {
      "cell_type": "markdown",
      "metadata": {
        "id": "px9RPSdDF4ai",
        "colab_type": "text"
      },
      "source": [
        "### Challenge\n",
        "\n",
        "In the following cell, rewrite cat_food.py to use f-string instead of joining strings with + ."
      ]
    },
    {
      "cell_type": "code",
      "metadata": {
        "id": "RlIJ-7GP0TL_",
        "colab_type": "code",
        "colab": {}
      },
      "source": [
        "# Add your revised cat food program here."
      ],
      "execution_count": null,
      "outputs": []
    },
    {
      "cell_type": "markdown",
      "metadata": {
        "id": "nkxuivpM_Qis",
        "colab_type": "text"
      },
      "source": [
        "# Example Programs"
      ]
    },
    {
      "cell_type": "markdown",
      "metadata": {
        "colab_type": "text",
        "id": "NSgINTKQ_CYt"
      },
      "source": [
        "### 1 - Print a Multiplication Table"
      ]
    },
    {
      "cell_type": "code",
      "metadata": {
        "id": "LtZnTw6klY6f",
        "colab_type": "code",
        "colab": {}
      },
      "source": [
        "for i in range(1,10):\n",
        "  print(i, end=' ')\n",
        "  for j in range(2, 10):\n",
        "    print(f'{i*j:2}', end=' ')\n",
        "  print()"
      ],
      "execution_count": null,
      "outputs": []
    },
    {
      "cell_type": "markdown",
      "metadata": {
        "colab_type": "text",
        "id": "VCrIV-u_8lLa"
      },
      "source": [
        "## 2 - Search IMDb"
      ]
    },
    {
      "cell_type": "code",
      "metadata": {
        "id": "nFqtwGgQmP-7",
        "colab_type": "code",
        "colab": {}
      },
      "source": [
        "!pip install -q imdbpy\n",
        "from imdb import IMDb\n",
        "from IPython.display import Image"
      ],
      "execution_count": null,
      "outputs": []
    },
    {
      "cell_type": "code",
      "metadata": {
        "id": "1dmpaajmmQs0",
        "colab_type": "code",
        "colab": {}
      },
      "source": [
        "title = 'the godfather'\n",
        "imdb = IMDb()  # create imdb API object\n",
        "results = imdb.search_movie(title)\n",
        "\n",
        "for i in results:\n",
        "  if i.data['kind'] == 'movie':\n",
        "    movie = imdb.get_movie(i.movieID)\n",
        "    imdb.update(movie, info=['vote details'])\n",
        "    if 'rating' in movie.data:\n",
        "      display(Image(url=movie.data['cover url']))\n",
        "      print(movie, movie.data['rating'])"
      ],
      "execution_count": null,
      "outputs": []
    },
    {
      "cell_type": "markdown",
      "metadata": {
        "id": "SyQZmOBvDfHJ",
        "colab_type": "text"
      },
      "source": [
        "## 3 - Generate a Histogram"
      ]
    },
    {
      "cell_type": "code",
      "metadata": {
        "id": "G41ikHfhDdN9",
        "colab_type": "code",
        "colab": {}
      },
      "source": [
        "import seaborn as sns\n",
        "\n",
        "countries = ['UK', 'UK', 'Israel', 'India', 'UK', 'India', 'UK', 'Sweden', \n",
        "             'India', 'India', 'India', 'India', 'UK', 'India', 'Nigeria', \n",
        "             'US', 'Afghanistan', 'Afghanistan', 'US', 'UK', 'US', \n",
        "             'Afghanistan', 'UK']\n",
        "sns.countplot(countries)\n"
      ],
      "execution_count": null,
      "outputs": []
    },
    {
      "cell_type": "markdown",
      "metadata": {
        "id": "inQ6KAKi_eow",
        "colab_type": "text"
      },
      "source": [
        "# Resources"
      ]
    },
    {
      "cell_type": "markdown",
      "metadata": {
        "id": "GcGX5HMb7ZpG",
        "colab_type": "text"
      },
      "source": [
        "* [The official Python site](https://python.org)\n",
        "* [Install Python](https://python.org/downloads/)\n",
        "* [Nice Python editor for beginners](https://codewith.my)\n",
        "* [My Favorite Books for Beginning Python Students](https://mco.dev/my-favorite-books-for-beginning-python-students/)\n",
        "* [repl.it](https://repl.it)\n",
        "* [codingbat.com](https://codingbat.com/python)\n",
        "* [Common Errors Python Beginners Encounter (with Solutions)](https://blog.repl.it/beginner-python-errors-career-karma?ref=newsletter)"
      ]
    },
    {
      "cell_type": "markdown",
      "metadata": {
        "id": "Wwgi8P3R_DAL",
        "colab_type": "text"
      },
      "source": [
        "# Documentation"
      ]
    },
    {
      "cell_type": "markdown",
      "metadata": {
        "id": "fhjNrudli71i",
        "colab_type": "text"
      },
      "source": [
        "* [Official Python Documentation](https://python.org/doc/)\n",
        "* the `help` function (see example below)\n",
        "* Google"
      ]
    },
    {
      "cell_type": "code",
      "metadata": {
        "id": "F6LQrPgkjDZ0",
        "colab_type": "code",
        "colab": {}
      },
      "source": [
        "help(input)"
      ],
      "execution_count": null,
      "outputs": []
    },
    {
      "cell_type": "markdown",
      "metadata": {
        "id": "jBs305Ht_KLo",
        "colab_type": "text"
      },
      "source": [
        "# Homework"
      ]
    },
    {
      "cell_type": "markdown",
      "metadata": {
        "id": "mGfNQFRGUtYI",
        "colab_type": "text"
      },
      "source": [
        "* Watch this [short video](https://www.youtube.com/watch?v=inN8seMm7UI) and take a [quick tour of Colab](https://colab.research.google.com/notebooks/intro.ipynb).\n",
        "* Read Chapter 1 (Python Basics) in the free online version of [Automate the Boring Stuff with Python](http://automatetheboringstuff.com/).\n",
        "* Make a copy of this notebook (if you haven't already done so) and complete the challenges above. You can make a copy of this notebook by selecting File->Save a copy in Drive from the menu bar above.\n",
        "* Review your copy of this notebook.\n",
        "  * Complete all the challenges.\n",
        "  * Complete the four questions below.\n",
        "  * If something is unclear, experiment and see if you can understand it better.\n"
      ]
    },
    {
      "cell_type": "markdown",
      "metadata": {
        "id": "Dd1FNOpnK0-D",
        "colab_type": "text"
      },
      "source": [
        "## Question 1\n",
        "\n",
        "Prompt for user's name and print it back with \"Nice to meet you, name!\"."
      ]
    },
    {
      "cell_type": "code",
      "metadata": {
        "id": "orMwPRauWCOU",
        "colab_type": "code",
        "colab": {}
      },
      "source": [
        "# Add your code here"
      ],
      "execution_count": null,
      "outputs": []
    },
    {
      "cell_type": "code",
      "metadata": {
        "id": "314VvVKCMIzK",
        "colab_type": "code",
        "cellView": "form",
        "colab": {}
      },
      "source": [
        "#@title Double click here to reveal solution\n",
        "\n",
        "name = input ('What is your name? ')\n",
        "print ('Nice to meet you,', name +'!')"
      ],
      "execution_count": null,
      "outputs": []
    },
    {
      "cell_type": "markdown",
      "metadata": {
        "id": "So9vQ1trLJLX",
        "colab_type": "text"
      },
      "source": [
        "## Question 2\n",
        "\n",
        "Prompt for dog's age and return in people years."
      ]
    },
    {
      "cell_type": "code",
      "metadata": {
        "id": "-8rQKJmiLSsa",
        "colab_type": "code",
        "colab": {
          "base_uri": "https://localhost:8080/",
          "height": 51
        },
        "outputId": "9e54ce4a-f512-498f-a3bd-138bc45ff8ef"
      },
      "source": [
        "dog_age = input('how old is doggy? ')\n",
        "conversion_factor = 7\n",
        "human_years = float(dog_age) * conversion_factor\n",
        "print(f'{dog_age} = {human_years} human years')"
      ],
      "execution_count": null,
      "outputs": [
        {
          "output_type": "stream",
          "text": [
            "how old is doggy? 10.345\n",
            "10.345 = 72.415 human years\n"
          ],
          "name": "stdout"
        }
      ]
    },
    {
      "cell_type": "code",
      "metadata": {
        "id": "M_bufOMUMfxj",
        "colab_type": "code",
        "cellView": "form",
        "colab": {}
      },
      "source": [
        "#@title Double click here to reveal solution\n",
        "\n",
        "dog_to_people_years = 7\n",
        "dog_age = input('How old is your dog? ')\n",
        "people_age = int(dog_age) * dog_to_people_years\n",
        "print(dog_age,'dog years =',  str(people_age), 'people years.')\n"
      ],
      "execution_count": null,
      "outputs": []
    },
    {
      "cell_type": "markdown",
      "metadata": {
        "id": "1jH-_bNlLcHc",
        "colab_type": "text"
      },
      "source": [
        "## Question 3 \n",
        "\n",
        "Write a program to calculate the total number of hours in a fixed set of days, where the number of days is assigned to a variable."
      ]
    },
    {
      "cell_type": "code",
      "metadata": {
        "id": "rXOX2g4-Ll-9",
        "colab_type": "code",
        "colab": {}
      },
      "source": [
        "# Add your code here"
      ],
      "execution_count": null,
      "outputs": []
    },
    {
      "cell_type": "code",
      "metadata": {
        "id": "-DTi8KY4O95w",
        "colab_type": "code",
        "cellView": "form",
        "colab": {}
      },
      "source": [
        "#@title Double click here to reveal solution\n",
        "\n",
        "days = 365\n",
        "hours = 24\n",
        "total_hours = days * hours\n",
        "msg = f'There are {total_hours} hours in {days} days.'\n",
        "print(msg)"
      ],
      "execution_count": null,
      "outputs": []
    },
    {
      "cell_type": "markdown",
      "metadata": {
        "id": "9LYTJHnh0mPe",
        "colab_type": "text"
      },
      "source": [
        "## Question 4\n",
        "\n",
        "Write some Python code that uses all the maths operators you've learned."
      ]
    },
    {
      "cell_type": "code",
      "metadata": {
        "id": "p4ETVG0e02DZ",
        "colab_type": "code",
        "colab": {}
      },
      "source": [
        "# Add your code here"
      ],
      "execution_count": null,
      "outputs": []
    },
    {
      "cell_type": "code",
      "metadata": {
        "id": "2NBHmKwS04qd",
        "colab_type": "code",
        "cellView": "form",
        "colab": {}
      },
      "source": [
        "#@title Double click here to reveal solution\n",
        "\n",
        "a = 2 + 3\n",
        "print(a)\n",
        "a = 3 - 2\n",
        "print(a)\n",
        "a = 2 * 3\n",
        "print(a)\n",
        "a = 2 / 3\n",
        "print(a)\n",
        "a = 2 // 3\n",
        "print(a)\n",
        "a = 2 % 3\n",
        "print(a)\n",
        "a = 2 ** 3\n",
        "print(a)\n",
        "a = (2 + 3) * 4\n",
        "print(a)"
      ],
      "execution_count": null,
      "outputs": []
    }
  ]
}