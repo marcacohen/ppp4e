{
  "nbformat": 4,
  "nbformat_minor": 0,
  "metadata": {
    "colab": {
      "name": "PPP4E, Lesson 2 - https://mco.fyi/py2",
      "provenance": [],
      "collapsed_sections": [
        "7B_-CpRRW4Zd",
        "BpuEC26cBwD1",
        "afAWHnWGxReQ",
        "9HGSRPf_BAc3",
        "PdFFo1u6BH0k",
        "qn34G0hXEtKO",
        "ts0WOpYFZyfn",
        "ZowB7LpzJcD6",
        "my36bn5DLQP4",
        "iLKO9yobaPpe",
        "6WkzRT7rRKWu",
        "rm-P0Vl3RNF4",
        "84uQi1YuRWKV",
        "LmR-mmqESpeS",
        "4coNiaeGZIYb",
        "KiBaxNk9bAVl",
        "EY_CXBBE8iL0",
        "QeVednm88pEn",
        "zIAR_Ahg85Py",
        "L_7esHuA9LKs",
        "FdtLybaN97zL",
        "xm2YA7qo-Op1"
      ],
      "authorship_tag": "ABX9TyOSmlM3Uuii7E3vclfWvGWM",
      "include_colab_link": true
    },
    "kernelspec": {
      "name": "python3",
      "display_name": "Python 3"
    }
  },
  "cells": [
    {
      "cell_type": "markdown",
      "metadata": {
        "id": "view-in-github",
        "colab_type": "text"
      },
      "source": [
        "<a href=\"https://colab.research.google.com/github/marcacohen/ppp4e/blob/master/lesson2.ipynb\" target=\"_parent\"><img src=\"https://colab.research.google.com/assets/colab-badge.svg\" alt=\"Open In Colab\"/></a>"
      ]
    },
    {
      "cell_type": "markdown",
      "metadata": {
        "id": "7B_-CpRRW4Zd",
        "colab_type": "text"
      },
      "source": [
        "# Practical Python Programming for Everyone (PPP4E)\n",
        "\n",
        "**Lesson 2, Booleans, Expressions, Operators, and `if` Statements**\n",
        "\n",
        "Link to this notebook: [mco.fyi/py2](https://mco.fyi/py2)\n",
        "\n",
        "**You can make a copy of this notebook by selecting File->Save a copy in Drive from the menu bar above.**"
      ]
    },
    {
      "cell_type": "markdown",
      "metadata": {
        "id": "BpuEC26cBwD1",
        "colab_type": "text"
      },
      "source": [
        "# Constants vs. Variables\n",
        "\n"
      ]
    },
    {
      "cell_type": "markdown",
      "metadata": {
        "id": "itqeB31-aKVb",
        "colab_type": "text"
      },
      "source": [
        "* Literal values (like `'marc'` and `2010`) are called constants because they don't change.\n",
        "\n",
        "* Unlike constants, the value associated with a variable may change.\n",
        "That's why they're called variables - because they can *vary* over time.\n",
        "\n",
        "* The data a variable refers to may be simple, e.g. a number or a string, or it may be complex, e.g. a list or an object (we'll learn about those later).\n"
      ]
    },
    {
      "cell_type": "markdown",
      "metadata": {
        "id": "afAWHnWGxReQ",
        "colab_type": "text"
      },
      "source": [
        "# The Boolean (`bool`) Type"
      ]
    },
    {
      "cell_type": "markdown",
      "metadata": {
        "id": "_3EkMSozz9Da",
        "colab_type": "text"
      },
      "source": [
        "Python supports a special type called booleans, written `bool` in Python, which are used to indicate whether something is true or false. Booleans have one of two possible values:\n",
        "\n",
        "* `True`\n",
        "* `False`"
      ]
    },
    {
      "cell_type": "markdown",
      "metadata": {
        "id": "1tN7wAD3Calm",
        "colab_type": "text"
      },
      "source": [
        "When evaluating a number as a boolean, the following rules apply:\n",
        "\n",
        "* 0 is `False`\n",
        "* 0.0 is `False`\n",
        "* non-zero numbers are `True`\n",
        "\n",
        "When evaluating a string as a boolean, the following rules apply:\n",
        "\n",
        "* the empty string ('') is `False`\n",
        "* non-empty strings are `True`\n",
        "\n",
        "Marc’s Law of Boolean Evaluation in Python: **“nothingness is false, somethingness is true”**"
      ]
    },
    {
      "cell_type": "markdown",
      "metadata": {
        "id": "9HGSRPf_BAc3",
        "colab_type": "text"
      },
      "source": [
        "# The None Type"
      ]
    },
    {
      "cell_type": "markdown",
      "metadata": {
        "id": "ojJq8xJUBOnP",
        "colab_type": "text"
      },
      "source": [
        "There's a special type called `None` and it means unassigned or null.\n",
        "It's a good choice when you want to initialize a variable without an obvious choice for the initial value, like this:\n",
        "\n",
        "```name = None```\n",
        "\n",
        "None always evaluates to False in boolean expressions.\n"
      ]
    },
    {
      "cell_type": "markdown",
      "metadata": {
        "id": "PdFFo1u6BH0k",
        "colab_type": "text"
      },
      "source": [
        "# Type Conversion and the `type` Function"
      ]
    },
    {
      "cell_type": "markdown",
      "metadata": {
        "id": "YeuR2ONxDjtf",
        "colab_type": "text"
      },
      "source": [
        "## Type Conversion Functions\n",
        "\n",
        "* `int(x)` - converts argument to an integer\n",
        "* `float(x)` - converts argument to a floating point number\n",
        "* `str(x)` - converts argument to a string\n",
        "* `bool(x)` - converts argument to a boolean value\n"
      ]
    },
    {
      "cell_type": "markdown",
      "metadata": {
        "id": "uglvKyHbEMx7",
        "colab_type": "text"
      },
      "source": [
        "## When do you need to convert a type?\n",
        "\n",
        "When you have an expression containing mixed types...\n",
        "\n",
        "* `name + number`\n",
        "* `age * 365`\n",
        "\n",
        "When you call a function that requires a different type than you are passing...\n",
        "\n",
        "* `random.randrange('11')` won’t work, but...\n",
        "* `random.randrange(int('11')`) is fine\n"
      ]
    },
    {
      "cell_type": "markdown",
      "metadata": {
        "id": "qn34G0hXEtKO",
        "colab_type": "text"
      },
      "source": [
        "## The type() function\n",
        "\n",
        "Returns the type of the passed argument...\n",
        "```\n",
        ">>> type(123)\n",
        "<class 'int'>\n",
        "```"
      ]
    },
    {
      "cell_type": "code",
      "metadata": {
        "id": "ZAosu9VTFZ2x",
        "colab_type": "code",
        "colab": {}
      },
      "source": [
        "type_int = type(123)\n",
        "type_float = type(3.14)\n",
        "type_str = type('a string')\n",
        "type_bool = type(True)\n",
        "type_none = type(None)\n",
        "\n",
        "print(type_int, type_float, type_str, type_bool, type_none)"
      ],
      "execution_count": null,
      "outputs": []
    },
    {
      "cell_type": "markdown",
      "metadata": {
        "id": "ts0WOpYFZyfn",
        "colab_type": "text"
      },
      "source": [
        "# Comparison Opererators"
      ]
    },
    {
      "cell_type": "markdown",
      "metadata": {
        "id": "wsnE_dJOG7XV",
        "colab_type": "text"
      },
      "source": [
        "Comparison operators result in a boolean type (`True` or `False`).\n",
        "\n",
        "|operator|operation on numbers|operation on strings|\n",
        "|--------|--------------------|--------------------|\n",
        "|==|equal to|equal to|\n",
        "|!=|not equal to|not equal to|\n",
        "|>|greater than|lexicographically greater than|\n",
        "|>=|greater than or equal to|lexocographically greater than or equal to|\n",
        "|<|less than|lexicographically less than|\n",
        "|<=|less than or equal to|lexocographically less than or equal to|\n"
      ]
    },
    {
      "cell_type": "markdown",
      "metadata": {
        "id": "v0b7v2jZHyNk",
        "colab_type": "text"
      },
      "source": [
        "## Challenge\n",
        "\n",
        "Which boolean value (`True` or `False`) does each of these expressions evaluate to?\n",
        "\n",
        "### `==` and `!=`\n",
        "* `123 == 10`\n",
        "* `10 == 123`\n",
        "* `123 == 123`\n",
        "* `123 != 321`\n",
        "* `123 != 123`\n",
        "* `age == 65`\n",
        "* `age != min_age`\n",
        "\n",
        "* `'andrew' == 'marc'`\n",
        "* `'marc' == 'andrew'`\n",
        "* `'marc' == 'marc'`\n",
        "* `'marc' != 'Marc'`\n",
        "\n",
        "### `>` and `>=`\n",
        "* `123 > 10`\n",
        "* `10 > 123`\n",
        "* `123 > 123`\n",
        "* `123 >= 123`\n",
        "* `age >= 65`\n",
        "* `age > min_age`\n",
        "\n",
        "* `'fred' > 'marc'` \n",
        "* `'marc' > 'fred'` \n",
        "* `'marc' >= 'marc'` \n",
        "* `'marc' > 'Marc'` \n"
      ]
    },
    {
      "cell_type": "markdown",
      "metadata": {
        "id": "ZowB7LpzJcD6",
        "colab_type": "text"
      },
      "source": [
        "# Boolean Operators - `and`, `or`, and `not`"
      ]
    },
    {
      "cell_type": "markdown",
      "metadata": {
        "id": "KF1N424FJ0Eo",
        "colab_type": "text"
      },
      "source": [
        "## Logical And\n",
        "\n",
        "* `A and B`\n",
        "\n",
        "is `True` only true when both A and B are `True`, otherwise it's `False`.\n",
        "\n",
        "Example: \n",
        "\n",
        "\n",
        "* sunny = it's sunny\n",
        "* warm = it's warm\n",
        "* I ride my bike only when it's both sunny and warm.\n",
        "* If either sunny or warm (or both) are `False` (i.e. it's cloudy, cold, or both) then `sunny and warm` is `False` and I don't ride my bike.\n",
        "\n",
        "In Python...\n",
        "```\n",
        "if sunny and warm:\n",
        "  ride_bike()\n"
      ]
    },
    {
      "cell_type": "markdown",
      "metadata": {
        "id": "my36bn5DLQP4",
        "colab_type": "text"
      },
      "source": [
        "### Truth Table for `var1 and var2`\n",
        "|`var1`|`var2`|`var1 and var2`|\n",
        "|------|------|---------------|\n",
        "|`False`|`False`|`False`|\n",
        "|`True`|`False`|`False`|\n",
        "|`False`|`True`|`False`|\n",
        "|`True`|`True`|`True`|"
      ]
    },
    {
      "cell_type": "markdown",
      "metadata": {
        "id": "D20Cb0BCK_cv",
        "colab_type": "text"
      },
      "source": [
        "## Logical Or\n",
        "\n",
        "* `A or B`\n",
        "\n",
        "is `True` when either A or B are `True`, otherwise it's `False`.\n",
        "\n",
        "Example: \n",
        "\n",
        "* sunny = it's sunny\n",
        "* warm = it's warm\n",
        "* I ride my bike  when it's sunny, warm, or both.\n",
        "* If either sunny, warm, or both are `True` then I ride my bike.\n",
        "\n",
        "In Python...\n",
        "```\n",
        "if sunny or warm:\n",
        "  ride_bike()\n",
        "```"
      ]
    },
    {
      "cell_type": "markdown",
      "metadata": {
        "id": "p6D_1vwhLCAI",
        "colab_type": "text"
      },
      "source": [
        "### Truth Table for `var1 or var2`\n",
        "\n",
        "|`var1`|`var2`|`var1 or var2`|\n",
        "|------|------|---------------|\n",
        "|`False`|`False`|`False`|\n",
        "|`True`|`False`|`True`|\n",
        "|`False`|`True`|`True`|\n",
        "|`True`|`True`|`True`|"
      ]
    },
    {
      "cell_type": "markdown",
      "metadata": {
        "id": "jDIwirDzLiMd",
        "colab_type": "text"
      },
      "source": [
        "## Logical Not\n",
        "\n",
        "* `not A`\n",
        "\n",
        "is `True` when A is `False`\n",
        "is `False` when A is `True`"
      ]
    },
    {
      "cell_type": "markdown",
      "metadata": {
        "id": "d1nvESalLmfQ",
        "colab_type": "text"
      },
      "source": [
        "### Truth Table for `not var1`\n",
        "\n",
        "|`var1`|`not var1`|\n",
        "|------|---------|\n",
        "|`False`|`True`|\n",
        "|`True`|`False`|"
      ]
    },
    {
      "cell_type": "markdown",
      "metadata": {
        "id": "iLKO9yobaPpe",
        "colab_type": "text"
      },
      "source": [
        "# Expressions Revisited\n"
      ]
    },
    {
      "cell_type": "markdown",
      "metadata": {
        "id": "2_PcvCxvPrUm",
        "colab_type": "text"
      },
      "source": [
        "\n",
        "* Python lets us combine variables, constants and operators into larger units called expressions.\n",
        "* Expressions appear in many places \n",
        "  * assignment statements\n",
        "    * `age = age + 1    # we do this every birthday`\n",
        "  * function calls\n",
        "    * `print(total_days * 365) # number of days alive`\n",
        "* As we learn more, we'll see expressions popping up all over the place\n"
      ]
    },
    {
      "cell_type": "code",
      "metadata": {
        "id": "eYfZK3dUAaml",
        "colab_type": "code",
        "colab": {}
      },
      "source": [
        "age = 60\n",
        "print(age)\n",
        "age = age + 1\n",
        "print(age)\n",
        "age += 1\n",
        "print(age)"
      ],
      "execution_count": null,
      "outputs": []
    },
    {
      "cell_type": "code",
      "metadata": {
        "id": "L3C_b_2eHuXP",
        "colab_type": "code",
        "colab": {}
      },
      "source": [
        "age = 48\n",
        "days_per_year = 365\n",
        "days_old = age * days_per_year\n",
        "print(f'I am {days_old} days old!')"
      ],
      "execution_count": null,
      "outputs": []
    },
    {
      "cell_type": "markdown",
      "metadata": {
        "id": "6WkzRT7rRKWu",
        "colab_type": "text"
      },
      "source": [
        "## Types of Expressions\n",
        "\n",
        "* arithmetic expressions\n",
        "\n",
        "`tax = income * tax_rate`\n",
        "\n",
        "* comparative expressions\n",
        "\n",
        "`no_errors = error_count <= 0`\n",
        "\n",
        "* boolean expressions\n",
        "\n",
        "`keep_going = more_work and no_errors`\n",
        "\n",
        "* combinations of the above\n",
        "\n",
        "`ok_to_enter = valid_ticket and (age > min_age)`"
      ]
    },
    {
      "cell_type": "markdown",
      "metadata": {
        "id": "rm-P0Vl3RNF4",
        "colab_type": "text"
      },
      "source": [
        "## Order of Evaluation\n",
        "\n",
        "How does Python know the correct order to evaluate a complex expression?\n",
        "\n",
        "Example: `4 + 1 * 5`\n",
        "\n",
        "Is that `(4 + 1) * 5`, which is `25`?  \n",
        "Or is it `4 + (1 * 5)`, which is `9`?\n",
        "\n",
        "Another example:  True or False and False\n",
        "\n",
        "Is that `(True or False) and False`, which is `False`?  \n",
        "Or is it `True or (False and False)`, which is `True`?\n",
        "\n",
        "Python uses operator precedence rules to avoid this ambiguity and evaluate expressions in a predictable way."
      ]
    },
    {
      "cell_type": "markdown",
      "metadata": {
        "id": "84uQi1YuRWKV",
        "colab_type": "text"
      },
      "source": [
        "## Simplified Python Precedence Rules\n",
        "\n",
        "This is a subset of the complete rules (in order of highest to lowest precedence):\n",
        "\n",
        "* parentheses (innermost to outermost, left to right)\n",
        "* exponentiation (left to right)\n",
        "* multiplication, division, modulus (left to right)\n",
        "* addition, subtraction (left to right)\n",
        "* comparisons (left to right)\n",
        "* boolean not\n",
        "* boolean and\n",
        "* boolean or\n",
        "\n",
        "[The Official Rules](https://docs.python.org/3/reference/expressions.html#operator-precedence)"
      ]
    },
    {
      "cell_type": "markdown",
      "metadata": {
        "id": "LmR-mmqESpeS",
        "colab_type": "text"
      },
      "source": [
        "## Practical Advice\n",
        "\n",
        "Marc's rule or operator precedence: **When in doubt, use parentheses.**\n",
        "\n",
        "I make liberal use of parentheses because:\n",
        "* I don't need to remember the precedence rules.\n",
        "* I don't have to worry about surprises.\n",
        "* It makes my code more readable.\n",
        "\n",
        "Example: I could write this legal expression:\n",
        "\n",
        "`A and B or C and D`\n",
        "\n",
        "but I much prefer to make explicit, like this:\n",
        "\n",
        "`(A and B) or (C and D)`"
      ]
    },
    {
      "cell_type": "markdown",
      "metadata": {
        "id": "4coNiaeGZIYb",
        "colab_type": "text"
      },
      "source": [
        "## Challenge\n",
        "\n",
        "Evaluate the following expressions mentally, then verify your answer in a code cell...\n",
        "\n",
        "* `2 + 3 * 4 + 5`\n",
        "* `(2 + 3) * (4 + 5)`\n",
        "* `1 * 2 + 3 * 4 + 5 * 6`\n",
        "* `100 / 25 / 2`\n",
        "* `(100 / 33) <= 3`\n",
        "* `(100 // 33) <= 3`\n",
        "* `True and False and True`\n",
        "* `True and True or False and False`\n",
        "* `100 % 99`\n",
        "* `(100 / 100) // (100 % 100)`"
      ]
    },
    {
      "cell_type": "markdown",
      "metadata": {
        "id": "KiBaxNk9bAVl",
        "colab_type": "text"
      },
      "source": [
        "# Controlling Program Flow\n",
        "\n",
        "Trivia Question: \n",
        "Will the year 2100 be a leap year?\n",
        "\n",
        "* Up to now, we've looked at very simple programs, involving a sequence of statements (A, then B, then C…)\n",
        "* But real world algorithms are rarely so simple\n",
        "\n",
        "Example: If a year is divisible by 4, then it's a leap year, otherwise it's not a leap year.\n",
        "\n",
        "This is called conditional logic because the program’s logic or execution path is determined by the testing of a true or false condition.\n",
        "\n",
        "Everyday example:  if it's not raining then I'll ride my bike to work, otherwise I'll take public transit.\n"
      ]
    },
    {
      "cell_type": "markdown",
      "metadata": {
        "id": "Qoz-W_TIz3QS",
        "colab_type": "text"
      },
      "source": [
        "# `if` Statements"
      ]
    },
    {
      "cell_type": "markdown",
      "metadata": {
        "id": "aTcPnZnF7S9-",
        "colab_type": "text"
      },
      "source": [
        "* The `if` statement is how we express conditional logic in Python.\n",
        "* Virtually every programming language has this concept.\n",
        "* If statements define a condition and a sequence of statements to execute if the condition is `True`.\n",
        "\n",
        "Prototype...\n",
        "\n",
        "```\n",
        "if some_condition:    \n",
        "  do_this()\n",
        "  do_that()\n",
        "```\n",
        "\n",
        "If the condition is true, the indented statements are executed.\n",
        "Otherwise, the indented statements are skipped and program execution continues after the `if` statement.\n"
      ]
    },
    {
      "cell_type": "code",
      "metadata": {
        "id": "NzctV1Z6C3lk",
        "colab_type": "code",
        "colab": {}
      },
      "source": [
        "month = 'aug'\n",
        "\n",
        "if month == 'aug':\n",
        "    print('yay - it\\'s still summer!')\n",
        "    print('and more time to vacation')\n",
        "print('program done')"
      ],
      "execution_count": null,
      "outputs": []
    },
    {
      "cell_type": "markdown",
      "metadata": {
        "id": "s6BuZoxH7UcD",
        "colab_type": "text"
      },
      "source": [
        "## Challenge\n",
        "\n",
        "In Python, we use indentation to associate a block of statements with a condition, for example...\n",
        "\n",
        "```\n",
        "print('1', end='')\n",
        "if some_condition:    \n",
        "  print(', 2', end='')    \n",
        "  print(', 3', end='')\n",
        "print(', 4') # this line is NOT part of the if block\n",
        "```\n",
        "\n",
        "What does the output look like...\n",
        "* when the condition is True?\n",
        "* when the condition is False?"
      ]
    },
    {
      "cell_type": "markdown",
      "metadata": {
        "id": "iIM5dHM87YwW",
        "colab_type": "text"
      },
      "source": [
        "Here’s a slightly different example...\n",
        "```\n",
        "print('1', end='')\n",
        "if some_condition:    \n",
        "  print(', 2', end='')    \n",
        "print(', 3', end='') # this line is NOT part of    if block\n",
        "print(', 4')         # this line is NOT part of if block\n",
        "```\n",
        "What’s different?\n",
        "What does the output look like...\n",
        "* when the condition is True?\n",
        "* when the condition is False?\n"
      ]
    },
    {
      "cell_type": "markdown",
      "metadata": {
        "id": "BZrYYUiR8akX",
        "colab_type": "text"
      },
      "source": [
        "## `if` Block Structure\n",
        "\n",
        "* In Python, `if` statements blocks are defined by indentation.\n",
        "* This idea of using indentation to delineate program structure is pervasive in Python and unique across programming languages.\n",
        "* For now, we're focusing on if statements but later we'll see how indentation is used to define other kinds of statement blocks."
      ]
    },
    {
      "cell_type": "markdown",
      "metadata": {
        "id": "EY_CXBBE8iL0",
        "colab_type": "text"
      },
      "source": [
        "### Block Stucture in Other Languages\n",
        "\n",
        "In other languages, explicit delineators are used. For example, in Java, C and C++ we would write:\n",
        "\n",
        "```\n",
        "if ((cur_year % 4) == 0) {\n",
        "    leap_year = true;\n",
        "}\n",
        "```\n",
        "\n",
        "whereas, in Python we write:\n",
        "\n",
        "```\n",
        "if (cur_year % 4) == 0:\n",
        "    leap_year = True\n",
        "```\n",
        "Indentation in Java/C/C++ is a helpful practice for program readability but it does not affect program functionality.\n",
        "In Python, indentation is not just a good idea - it's affects program logic!\n"
      ]
    },
    {
      "cell_type": "markdown",
      "metadata": {
        "id": "QeVednm88pEn",
        "colab_type": "text"
      },
      "source": [
        "## Python's use of whitespace\n",
        "\n",
        "* Many people have strong opinions about this aspect of Python.\n",
        "* Personally, I find that it leads to compact, readable code.\n",
        "* My advice: don’t get hung up on this feature. Try it and see what you think after you've written a few Python programs.\n",
        "* Pitfalls:\n",
        "  * watch out for mismatched indentation within a block\n",
        "  * avoid mixing tabs and spaces in your code\n",
        "  * I prefer spaces because it's more explicit.\n",
        "\n",
        "Marc's law of whitespace: **Pick tabs or spaces and be Consistent.**"
      ]
    },
    {
      "cell_type": "markdown",
      "metadata": {
        "id": "zRsgasyw8s7O",
        "colab_type": "text"
      },
      "source": [
        "## Encoding our leap year rule\n",
        "Remember our leap year rule?\n",
        "\n",
        "* if the current year is divisible by 4, we have a leap year\n",
        "\n",
        "To express that in Python, we could write:\n",
        "```\n",
        "leap_year = False  # initialization\n",
        "cur_year = input('Enter current year: ')\n",
        "cur_year = int(cur_year)\n",
        "if (cur_year % 4) == 0:\n",
        "    leap_year = True\n",
        "print('leap year status: ' + str(leap_year))\n",
        "````\n",
        "**Why is the first statement needed?**\n"
      ]
    },
    {
      "cell_type": "code",
      "metadata": {
        "id": "6iEFL7juNtAF",
        "colab_type": "code",
        "colab": {}
      },
      "source": [
        "leap_year = False  # initialization\n",
        "cur_year = input('Enter current year: ')\n",
        "cur_year = int(cur_year)\n",
        "if (cur_year % 4) == 0:\n",
        "    leap_year = True\n",
        "print('leap year status: ' + str(leap_year))"
      ],
      "execution_count": null,
      "outputs": []
    },
    {
      "cell_type": "markdown",
      "metadata": {
        "id": "nqHUiij_02RO",
        "colab_type": "text"
      },
      "source": [
        "## `else` Statements"
      ]
    },
    {
      "cell_type": "markdown",
      "metadata": {
        "id": "zkMiG5338ypF",
        "colab_type": "text"
      },
      "source": [
        "Sometimes we want to specify an alternative to the `if` condition, which we do with an `else` statement, for example...\n",
        "\n",
        "```\n",
        "if <condition>:\n",
        "    <block1>\n",
        "else:\n",
        "    <block2> \n",
        "```\n",
        "\n",
        "* If the condition is true, block1 is executed.\n",
        "* if the condition is false, block2 is executed.\n",
        "\n",
        "The else cause is Python's way of saying \"otherwise...\"\n",
        "\n"
      ]
    },
    {
      "cell_type": "markdown",
      "metadata": {
        "id": "kVG18CiQ838a",
        "colab_type": "text"
      },
      "source": [
        "Just as `if` blocks are defined by indentation, `else` blocks are also defined by indentation.\n",
        "\n",
        "For example, this:\n",
        "\n",
        "```\n",
        "if <condition>:\n",
        "    <statement1>\n",
        "else:\n",
        "    <statement2> \n",
        "    <statement3>\n",
        "```\n",
        "is different from this: \n",
        "```\n",
        "if <condition>:\n",
        "    <statement1>\n",
        "else:\n",
        "    <statement2> \n",
        "<statement3>\n",
        "```\n"
      ]
    },
    {
      "cell_type": "markdown",
      "metadata": {
        "id": "zIAR_Ahg85Py",
        "colab_type": "text"
      },
      "source": [
        "### Challenge\n",
        "\n",
        "Consider the following if/else statement...\n",
        "```\n",
        "print('1', end='')\n",
        "if some_condition:    \n",
        "  print(', 2', end='')\n",
        "else:    \n",
        "  print(', 3', end='')\n",
        "print(', 4')\n",
        "```\n",
        "Question: what does the output look like…\n",
        "* when the `some_condition` is True?   \n",
        "* when the `some_condition` is False?  \n"
      ]
    },
    {
      "cell_type": "markdown",
      "metadata": {
        "id": "7eBjL9Ju9BG1",
        "colab_type": "text"
      },
      "source": [
        "## Let's use `if` and `else` to express our leap year rule"
      ]
    },
    {
      "cell_type": "code",
      "metadata": {
        "id": "45rV7XpBUS0w",
        "colab_type": "code",
        "colab": {}
      },
      "source": [
        "cur_year = input('Enter current year: ')\n",
        "cur_year = int(cur_year)\n",
        "if (cur_year % 4) == 0:\n",
        "  leap_year = True\n",
        "else:\n",
        "  leap_year = False\n",
        "print('leap year status: ' + str(leap_year))"
      ],
      "execution_count": null,
      "outputs": []
    },
    {
      "cell_type": "markdown",
      "metadata": {
        "id": "-uwGPHQt0vrJ",
        "colab_type": "text"
      },
      "source": [
        "## `elif` Statements"
      ]
    },
    {
      "cell_type": "markdown",
      "metadata": {
        "id": "Shf50kOm9GRl",
        "colab_type": "text"
      },
      "source": [
        "Sometimes we need one or more intermediate conditions between the if and else parts, for example...\n",
        "\n",
        "`if A then do X, else if B then do Y, otherwise do Z`\n",
        "\n",
        "We use the `elif` statement to express this in Python...\n",
        "```\n",
        "if condition1:\n",
        "    do_thing_1()\n",
        "elif condition2:\n",
        "    do_thing_2()\n",
        "else:\n",
        "    do_thing_3()\n",
        "```\n",
        "* If `condition1` is true, `do_thing_1()` is executed.\n",
        "* Otherwise, if `condition2` is true, `do_thing_2()` is executed.\n",
        "* Otherwise, `do_thing_3()` is executed.\n"
      ]
    },
    {
      "cell_type": "markdown",
      "metadata": {
        "id": "L9colMWL9HZw",
        "colab_type": "text"
      },
      "source": [
        "* `elif` blocks are defined the same way as `if` and `else` blocks - using indentation.\n",
        "\n",
        "* It's good to have an if/elif for every condition of interest and not lump errors together with cases of interest.\n",
        "\n",
        "For example, if you care about values 1 and 2 and everything else is considered an error, this code:\n",
        "```\n",
        "if x == 1:      # deal with 1 here\n",
        "  handle_1()\n",
        "elif x == 2:    # deal with 2 here\n",
        "  handle_2()\n",
        "else:           # deal with errors here\n",
        "  handle_error()\n",
        "```\n",
        "is better than this:\n",
        "```\n",
        "if x == 1:\n",
        "  handle_1()\n",
        "else:    # x must be 2 then, right? not necessarily!\n",
        "  handle_2()\n",
        "```\n",
        "The latter code hides errors by combining a valid case with error cases.\n"
      ]
    },
    {
      "cell_type": "markdown",
      "metadata": {
        "id": "L_7esHuA9LKs",
        "colab_type": "text"
      },
      "source": [
        "### Challenge\n",
        "\n",
        "Consider the following if/elif/else statement...\n",
        "```\n",
        "print('1', end='')\n",
        "if condition1:    \n",
        "  print(', 2', end='')\n",
        "elif condition2:    \n",
        "  print(', 3', end='')\n",
        "else:    \n",
        "  print(', 4', end='')\n",
        "print(', 5')\n",
        "```\n",
        "\n",
        "What does the output look like...\n",
        "* when both conditions are False?  \n",
        "* when both conditions are True?   \n",
        "* when `condition1` is `True` and `condition2` is `False`?   \n",
        "* when `condition1` is `False` and `condition2` is `True`?  "
      ]
    },
    {
      "cell_type": "markdown",
      "metadata": {
        "id": "D79nPzXo9zZM",
        "colab_type": "text"
      },
      "source": [
        "## Nested `if` Statements\n",
        "\n",
        "* Sometimes we need to embed one if statement inside another.\n",
        "* We call these nested if statements.\n",
        "* We can embed if statements inside any part of an `if` statement, i.e. in the `if` block or the `elif` block or the `else` block.\n",
        "* We can embed `if` statements arbitrarily deeply, i.e. we\n",
        "can have\n",
        "```\n",
        "  if condition1:\n",
        "    if condition2:\n",
        "      if condition3:\n",
        "        ...\n",
        "```\n"
      ]
    },
    {
      "cell_type": "markdown",
      "metadata": {
        "id": "FdtLybaN97zL",
        "colab_type": "text"
      },
      "source": [
        "### Challenge\n",
        "\n",
        "```\n",
        "print('1', end='')\n",
        "if condition1:    \n",
        "  print(', 2', end='')    \n",
        "  if condition2:        \n",
        "    print(', 3', end='')    \n",
        "  else:        \n",
        "    print(', 4', end='')\n",
        "else:    \n",
        "  print(', 5', end='')\n",
        "print(', 6')\n",
        "```\n",
        "What does the output look like...\n",
        "* when both conditions are False?  \n",
        "* when both conditions are True?   \n",
        "* when `condition1` is `True` and `condition2` is `False`?   \n",
        "* when `condition1` is `False` and `condition2` is `True`?  "
      ]
    },
    {
      "cell_type": "markdown",
      "metadata": {
        "id": "uWrJ5KjU-Edv",
        "colab_type": "text"
      },
      "source": [
        "## Improving Our Rule\n",
        "\n",
        "A more accurate rule for determining leap years:\n",
        "\n",
        "If the current year is divisible by 4 but not divisible by 100 then we have a leap year."
      ]
    },
    {
      "cell_type": "code",
      "metadata": {
        "id": "YOF4hlnTXsXU",
        "colab_type": "code",
        "colab": {}
      },
      "source": [
        "leap_year = False\n",
        "cur_year = input('Enter current year: ')\n",
        "cur_year = int(cur_year)\n",
        "if (cur_year % 4) == 0:    \n",
        "  if (cur_year % 100) != 0:        \n",
        "    leap_year = True\n",
        "print('leap year status: ' + str(leap_year))"
      ],
      "execution_count": null,
      "outputs": []
    },
    {
      "cell_type": "markdown",
      "metadata": {
        "id": "d5nFcLIa-I6O",
        "colab_type": "text"
      },
      "source": [
        "### Variation - using boolean logic instead of nested `if`\n",
        "\n",
        "This example could also be coded using boolean logic in place of the nested if statement."
      ]
    },
    {
      "cell_type": "code",
      "metadata": {
        "id": "zuThxO12XdqH",
        "colab_type": "code",
        "colab": {}
      },
      "source": [
        "leap_year = False\n",
        "cur_year = input('Enter current year: ')\n",
        "cur_year = int(cur_year)\n",
        "if (cur_year % 4) == 0 and (cur_year % 100) != 0:\n",
        "    leap_year = True\n",
        "print('leap year status: ' + str(leap_year))\n",
        "\n",
        "\n"
      ],
      "execution_count": null,
      "outputs": []
    },
    {
      "cell_type": "markdown",
      "metadata": {
        "id": "Jewjo6ZZX87O",
        "colab_type": "text"
      },
      "source": [
        "What does the above code print for the year...\n",
        "* 2020?\n",
        "* 2100?\n",
        "* 2000?  -- surprise, that one's wrong!"
      ]
    },
    {
      "cell_type": "markdown",
      "metadata": {
        "id": "xm2YA7qo-Op1",
        "colab_type": "text"
      },
      "source": [
        "## The Whole Story About Leap Years\n",
        "\n",
        "A year is a leap year if its divisible by 4, \n",
        "but it can't be divisible by 100,\n",
        "unless it's also divisible by 400.\n",
        "\n",
        "So...  \n",
        "* 2008 was a leap year because it's divisible by 4 and not divisible by 100.\n",
        "* 2100 will NOT be a leap year because although it's divisible by 4, it is also divisible by 100.\n",
        "* 2000 was a leap year because although it's divisible by 4 and 100, it's also divisible by 400!\n"
      ]
    },
    {
      "cell_type": "markdown",
      "metadata": {
        "id": "jJzPtT8z1Z6f",
        "colab_type": "text"
      },
      "source": [
        "# Importing Modules"
      ]
    },
    {
      "cell_type": "markdown",
      "metadata": {
        "id": "f-U1JoLp1gcI",
        "colab_type": "text"
      },
      "source": [
        "`import` is how you use someone else's code.\n",
        "\n",
        "Let's say we want to generate a random nmumber between 1 and 100. We use the Python `random` module, like this..."
      ]
    },
    {
      "cell_type": "code",
      "metadata": {
        "id": "I-UIGmb5cIM6",
        "colab_type": "code",
        "colab": {}
      },
      "source": [
        "import random\n",
        "\n",
        "count = 1000000\n",
        "sum = 0\n",
        "for i in range(count):\n",
        "  number = random.randint(1, 1000)\n",
        "  sum += number\n",
        "\n",
        "print(sum/count)"
      ],
      "execution_count": null,
      "outputs": []
    },
    {
      "cell_type": "markdown",
      "metadata": {
        "id": "nkxuivpM_Qis",
        "colab_type": "text"
      },
      "source": [
        "# Example Program"
      ]
    },
    {
      "cell_type": "markdown",
      "metadata": {
        "colab_type": "text",
        "id": "NSgINTKQ_CYt"
      },
      "source": [
        "### Draw a Randomly Colored Star"
      ]
    },
    {
      "cell_type": "code",
      "metadata": {
        "id": "RLXcCX_glOlA",
        "colab_type": "code",
        "colab": {}
      },
      "source": [
        "!pip install ColabTurtle\n",
        "import random\n",
        "from ColabTurtle.Turtle import *"
      ],
      "execution_count": null,
      "outputs": []
    },
    {
      "cell_type": "code",
      "metadata": {
        "id": "LtZnTw6klY6f",
        "colab_type": "code",
        "colab": {}
      },
      "source": [
        "colors = ('white', 'yellow', 'orange', 'red', 'green', 'blue', 'purple', 'grey')\n",
        "num_colors = len(colors)\n",
        "initializeTurtle()\n",
        "speed(8)\n",
        "showturtle()\n",
        "i = random.randint(0, num_colors-1)\n",
        "for x in range(16):\n",
        "        if x % 2 == 0:\n",
        "          color(colors[i])\n",
        "          i = (i + 1) % num_colors\n",
        "        forward(100)\n",
        "        if x % 2 == 0:\n",
        "            left(160)\n",
        "        else:\n",
        "            left(245)"
      ],
      "execution_count": null,
      "outputs": []
    },
    {
      "cell_type": "code",
      "metadata": {
        "id": "6yNvqDB2oP1B",
        "colab_type": "code",
        "colab": {}
      },
      "source": [
        "initializeTurtle(initial_speed=10)\n",
        "color('orange')\n",
        "bgcolor('white')\n",
        "width(1)\n",
        "for i in range(36):\n",
        "    forward(200)\n",
        "    left(170)"
      ],
      "execution_count": null,
      "outputs": []
    },
    {
      "cell_type": "markdown",
      "metadata": {
        "id": "jBs305Ht_KLo",
        "colab_type": "text"
      },
      "source": [
        "# Homework"
      ]
    },
    {
      "cell_type": "markdown",
      "metadata": {
        "id": "mGfNQFRGUtYI",
        "colab_type": "text"
      },
      "source": [
        "* Read Chapter 2 (Flow Control) in the free online version of [Automate the Boring Stuff with Python](http://automatetheboringstuff.com/).\n",
        "* Make a copy of this notebook (if you haven't already done so) and complete the challenges above. You can make a copy of this notebook by selecting File->Save a copy in Drive from the menu bar above.\n",
        "* Review your copy of this notebook.\n",
        "  * Complete all the challenges above.\n",
        "  * Complete the four questions below.\n",
        "  * If something is unclear, experiment and see if you can understand it better.\n"
      ]
    },
    {
      "cell_type": "markdown",
      "metadata": {
        "id": "Dd1FNOpnK0-D",
        "colab_type": "text"
      },
      "source": [
        "## Question 1\n",
        "\n",
        "Write a program that prompts the user for their birth year and prints their age in years, days, hours, minutes, and seconds. Don’t worry about the user’s birthday (just subtract the birth year from the current year to get the approximate current age in years) and you can ignore leap years. Here's a sample run:\n",
        "```\n",
        "    Enter your birth year:  1970\n",
        "    You are...\n",
        "        50 years old\n",
        "        18250 days old\n",
        "        438000 hours old\n",
        "        26280000 minutes old\n",
        "        1576800000 seconds old\n",
        "```\n",
        "Extra challenge:  write the program so that it works any year it is run, not just 2020 (hint: google the Python `datetime` module)."
      ]
    },
    {
      "cell_type": "code",
      "metadata": {
        "id": "orMwPRauWCOU",
        "colab_type": "code",
        "colab": {}
      },
      "source": [
        "# Add your code here"
      ],
      "execution_count": null,
      "outputs": []
    },
    {
      "cell_type": "code",
      "metadata": {
        "id": "314VvVKCMIzK",
        "colab_type": "code",
        "cellView": "form",
        "colab": {}
      },
      "source": [
        "#@title Double click here to reveal solution\n",
        "\n",
        "Coming soon."
      ],
      "execution_count": null,
      "outputs": []
    },
    {
      "cell_type": "markdown",
      "metadata": {
        "id": "So9vQ1trLJLX",
        "colab_type": "text"
      },
      "source": [
        "## Question 2\n",
        "\n",
        "* A person is eligible to be a US Senator if they are at least 30 years old and have been a US citizen for at least 9 years. \n",
        "\n",
        "* A person is eligible to be a US Representative if they are at least 25 years old and have been a US citizen for at least 7 years.\n",
        "\n",
        "Write a program to obtain age and length of citizenship from the user and print out one of the following three statements:\n",
        "\n",
        "* You are eligible to run for both the House and Senate.\n",
        "* You eligible only to run for the House.\n",
        "* You are ineligible for Congress."
      ]
    },
    {
      "cell_type": "code",
      "metadata": {
        "id": "-8rQKJmiLSsa",
        "colab_type": "code",
        "colab": {}
      },
      "source": [
        "# Add your code here"
      ],
      "execution_count": null,
      "outputs": []
    },
    {
      "cell_type": "code",
      "metadata": {
        "id": "M_bufOMUMfxj",
        "colab_type": "code",
        "cellView": "form",
        "colab": {}
      },
      "source": [
        "#@title Double click here to reveal solution\n",
        "\n",
        "Coming soon."
      ],
      "execution_count": null,
      "outputs": []
    },
    {
      "cell_type": "markdown",
      "metadata": {
        "id": "1jH-_bNlLcHc",
        "colab_type": "text"
      },
      "source": [
        "## Question 3 \n",
        "\n",
        "Write a program that generates two random 1 digit integers and prompts the user to provide the product of those two digits (basically, this is an interactive multiplication tester). Check the user's answer and print a response indicating whether it is correct or not. Here are two sample runs:\n",
        "```\n",
        "Welcome to the multiplication tester!\n",
        "What is 3 * 9? 25\n",
        "Sorry, that is incorrect, 3 * 9 = 27.\n",
        "\n",
        "Welcome to the multiplication tester!\n",
        "What is 4 * 7? 28\n",
        "Correct!\n",
        "```\n",
        "\n",
        "Extra challenge: After reading in chapter 2 about while loops, which we'll cover in class next week, put the code from this program inside a while loop, so that you keep quizzing the user until he or she enters a `q` (for 'quit') in response to one of the questions.\n"
      ]
    },
    {
      "cell_type": "code",
      "metadata": {
        "id": "rXOX2g4-Ll-9",
        "colab_type": "code",
        "colab": {}
      },
      "source": [
        "# Add your code here"
      ],
      "execution_count": null,
      "outputs": []
    },
    {
      "cell_type": "code",
      "metadata": {
        "id": "-DTi8KY4O95w",
        "colab_type": "code",
        "cellView": "form",
        "colab": {}
      },
      "source": [
        "#@title Double click here to reveal solution\n",
        "\n",
        "Coming soon."
      ],
      "execution_count": null,
      "outputs": []
    },
    {
      "cell_type": "markdown",
      "metadata": {
        "id": "9LYTJHnh0mPe",
        "colab_type": "text"
      },
      "source": [
        "## Question 4\n",
        "\n",
        "Write a program that prompts the user for a year and, using the complete set of rules described in class, tells the user whether the provided year is a leap year or not."
      ]
    },
    {
      "cell_type": "code",
      "metadata": {
        "id": "p4ETVG0e02DZ",
        "colab_type": "code",
        "colab": {}
      },
      "source": [
        "# Add your code here"
      ],
      "execution_count": null,
      "outputs": []
    },
    {
      "cell_type": "code",
      "metadata": {
        "id": "2NBHmKwS04qd",
        "colab_type": "code",
        "cellView": "form",
        "colab": {}
      },
      "source": [
        "#@title Double click here to reveal solution\n",
        "\n",
        "Coming soon."
      ],
      "execution_count": null,
      "outputs": []
    }
  ]
}